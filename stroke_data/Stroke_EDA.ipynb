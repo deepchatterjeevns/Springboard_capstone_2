{
 "cells": [
  {
   "cell_type": "code",
   "execution_count": 1,
   "metadata": {},
   "outputs": [],
   "source": [
    "#import necessary packages\n",
    "import pickle\n",
    "import pandas as pd\n",
    "import numpy as np\n",
    "import matplotlib.pyplot as plt\n",
    "import seaborn as sns \n",
    "\n",
    "def ecdf(data):\n",
    "    '''Function gives the x and y of a Cumulative distribution function'''\n",
    "    x= np.sort(np.array(data))\n",
    "    n=float(len(data))\n",
    "    y= (np.arange(1,n+1))/n\n",
    "    return x,y\n",
    "    "
   ]
  },
  {
   "cell_type": "code",
   "execution_count": 2,
   "metadata": {},
   "outputs": [
    {
     "data": {
      "text/html": [
       "<div>\n",
       "<style scoped>\n",
       "    .dataframe tbody tr th:only-of-type {\n",
       "        vertical-align: middle;\n",
       "    }\n",
       "\n",
       "    .dataframe tbody tr th {\n",
       "        vertical-align: top;\n",
       "    }\n",
       "\n",
       "    .dataframe thead th {\n",
       "        text-align: right;\n",
       "    }\n",
       "</style>\n",
       "<table border=\"1\" class=\"dataframe\">\n",
       "  <thead>\n",
       "    <tr style=\"text-align: right;\">\n",
       "      <th></th>\n",
       "      <th>male</th>\n",
       "      <th>age</th>\n",
       "      <th>hypertension</th>\n",
       "      <th>heart_disease</th>\n",
       "      <th>ever_married</th>\n",
       "      <th>work_type</th>\n",
       "      <th>urban_resident</th>\n",
       "      <th>avg_glucose_level</th>\n",
       "      <th>bmi</th>\n",
       "      <th>has_smoked</th>\n",
       "      <th>stroke</th>\n",
       "      <th>bmi_class</th>\n",
       "      <th>glucose_class</th>\n",
       "      <th>risk_factor</th>\n",
       "    </tr>\n",
       "    <tr>\n",
       "      <th>id</th>\n",
       "      <th></th>\n",
       "      <th></th>\n",
       "      <th></th>\n",
       "      <th></th>\n",
       "      <th></th>\n",
       "      <th></th>\n",
       "      <th></th>\n",
       "      <th></th>\n",
       "      <th></th>\n",
       "      <th></th>\n",
       "      <th></th>\n",
       "      <th></th>\n",
       "      <th></th>\n",
       "      <th></th>\n",
       "    </tr>\n",
       "  </thead>\n",
       "  <tbody>\n",
       "    <tr>\n",
       "      <th>30468</th>\n",
       "      <td>1</td>\n",
       "      <td>58.0</td>\n",
       "      <td>1</td>\n",
       "      <td>0</td>\n",
       "      <td>1</td>\n",
       "      <td>Private</td>\n",
       "      <td>1</td>\n",
       "      <td>87.96</td>\n",
       "      <td>39.2</td>\n",
       "      <td>0</td>\n",
       "      <td>0</td>\n",
       "      <td>Obese</td>\n",
       "      <td>41st-60th</td>\n",
       "      <td>One</td>\n",
       "    </tr>\n",
       "    <tr>\n",
       "      <th>56543</th>\n",
       "      <td>0</td>\n",
       "      <td>70.0</td>\n",
       "      <td>0</td>\n",
       "      <td>0</td>\n",
       "      <td>1</td>\n",
       "      <td>Private</td>\n",
       "      <td>0</td>\n",
       "      <td>69.04</td>\n",
       "      <td>35.9</td>\n",
       "      <td>0</td>\n",
       "      <td>0</td>\n",
       "      <td>Obese</td>\n",
       "      <td>0-20th</td>\n",
       "      <td>Neither</td>\n",
       "    </tr>\n",
       "    <tr>\n",
       "      <th>52800</th>\n",
       "      <td>0</td>\n",
       "      <td>52.0</td>\n",
       "      <td>0</td>\n",
       "      <td>0</td>\n",
       "      <td>1</td>\n",
       "      <td>Private</td>\n",
       "      <td>1</td>\n",
       "      <td>77.59</td>\n",
       "      <td>17.7</td>\n",
       "      <td>0</td>\n",
       "      <td>0</td>\n",
       "      <td>Underweight</td>\n",
       "      <td>21st-40th</td>\n",
       "      <td>Neither</td>\n",
       "    </tr>\n",
       "    <tr>\n",
       "      <th>41413</th>\n",
       "      <td>0</td>\n",
       "      <td>75.0</td>\n",
       "      <td>0</td>\n",
       "      <td>1</td>\n",
       "      <td>1</td>\n",
       "      <td>Self-employed</td>\n",
       "      <td>0</td>\n",
       "      <td>243.53</td>\n",
       "      <td>27.0</td>\n",
       "      <td>0</td>\n",
       "      <td>0</td>\n",
       "      <td>Overweight</td>\n",
       "      <td>81st-100th</td>\n",
       "      <td>One</td>\n",
       "    </tr>\n",
       "    <tr>\n",
       "      <th>15266</th>\n",
       "      <td>0</td>\n",
       "      <td>32.0</td>\n",
       "      <td>0</td>\n",
       "      <td>0</td>\n",
       "      <td>1</td>\n",
       "      <td>Private</td>\n",
       "      <td>0</td>\n",
       "      <td>77.67</td>\n",
       "      <td>32.3</td>\n",
       "      <td>1</td>\n",
       "      <td>0</td>\n",
       "      <td>Obese</td>\n",
       "      <td>21st-40th</td>\n",
       "      <td>Neither</td>\n",
       "    </tr>\n",
       "  </tbody>\n",
       "</table>\n",
       "</div>"
      ],
      "text/plain": [
       "       male   age  hypertension  heart_disease  ever_married      work_type  \\\n",
       "id                                                                            \n",
       "30468     1  58.0             1              0             1        Private   \n",
       "56543     0  70.0             0              0             1        Private   \n",
       "52800     0  52.0             0              0             1        Private   \n",
       "41413     0  75.0             0              1             1  Self-employed   \n",
       "15266     0  32.0             0              0             1        Private   \n",
       "\n",
       "       urban_resident  avg_glucose_level   bmi  has_smoked  stroke  \\\n",
       "id                                                                   \n",
       "30468               1              87.96  39.2           0       0   \n",
       "56543               0              69.04  35.9           0       0   \n",
       "52800               1              77.59  17.7           0       0   \n",
       "41413               0             243.53  27.0           0       0   \n",
       "15266               0              77.67  32.3           1       0   \n",
       "\n",
       "         bmi_class glucose_class risk_factor  \n",
       "id                                            \n",
       "30468        Obese     41st-60th         One  \n",
       "56543        Obese        0-20th     Neither  \n",
       "52800  Underweight     21st-40th     Neither  \n",
       "41413   Overweight    81st-100th         One  \n",
       "15266        Obese     21st-40th     Neither  "
      ]
     },
     "execution_count": 2,
     "metadata": {},
     "output_type": "execute_result"
    }
   ],
   "source": [
    "df= pd.read_pickle('working_data.pkl')\n",
    "df.head()"
   ]
  },
  {
   "cell_type": "code",
   "execution_count": 3,
   "metadata": {},
   "outputs": [
    {
     "data": {
      "text/html": [
       "<div>\n",
       "<style scoped>\n",
       "    .dataframe tbody tr th:only-of-type {\n",
       "        vertical-align: middle;\n",
       "    }\n",
       "\n",
       "    .dataframe tbody tr th {\n",
       "        vertical-align: top;\n",
       "    }\n",
       "\n",
       "    .dataframe thead th {\n",
       "        text-align: right;\n",
       "    }\n",
       "</style>\n",
       "<table border=\"1\" class=\"dataframe\">\n",
       "  <thead>\n",
       "    <tr style=\"text-align: right;\">\n",
       "      <th></th>\n",
       "      <th>male</th>\n",
       "      <th>age</th>\n",
       "      <th>hypertension</th>\n",
       "      <th>heart_disease</th>\n",
       "      <th>ever_married</th>\n",
       "      <th>urban_resident</th>\n",
       "      <th>avg_glucose_level</th>\n",
       "      <th>bmi</th>\n",
       "      <th>has_smoked</th>\n",
       "      <th>stroke</th>\n",
       "    </tr>\n",
       "  </thead>\n",
       "  <tbody>\n",
       "    <tr>\n",
       "      <th>count</th>\n",
       "      <td>27045.000000</td>\n",
       "      <td>27045.000000</td>\n",
       "      <td>27045.000000</td>\n",
       "      <td>27045.000000</td>\n",
       "      <td>27045.000000</td>\n",
       "      <td>27045.00000</td>\n",
       "      <td>27045.000000</td>\n",
       "      <td>27045.000000</td>\n",
       "      <td>27045.000000</td>\n",
       "      <td>27045.000000</td>\n",
       "    </tr>\n",
       "    <tr>\n",
       "      <th>mean</th>\n",
       "      <td>0.382991</td>\n",
       "      <td>50.073322</td>\n",
       "      <td>0.119652</td>\n",
       "      <td>0.056055</td>\n",
       "      <td>0.801109</td>\n",
       "      <td>0.50305</td>\n",
       "      <td>107.402281</td>\n",
       "      <td>30.415330</td>\n",
       "      <td>0.223923</td>\n",
       "      <td>0.020263</td>\n",
       "    </tr>\n",
       "    <tr>\n",
       "      <th>std</th>\n",
       "      <td>0.486125</td>\n",
       "      <td>17.147426</td>\n",
       "      <td>0.324561</td>\n",
       "      <td>0.230032</td>\n",
       "      <td>0.399173</td>\n",
       "      <td>0.50000</td>\n",
       "      <td>46.205596</td>\n",
       "      <td>7.136071</td>\n",
       "      <td>0.416879</td>\n",
       "      <td>0.140900</td>\n",
       "    </tr>\n",
       "    <tr>\n",
       "      <th>min</th>\n",
       "      <td>0.000000</td>\n",
       "      <td>20.000000</td>\n",
       "      <td>0.000000</td>\n",
       "      <td>0.000000</td>\n",
       "      <td>0.000000</td>\n",
       "      <td>0.00000</td>\n",
       "      <td>55.010000</td>\n",
       "      <td>10.100000</td>\n",
       "      <td>0.000000</td>\n",
       "      <td>0.000000</td>\n",
       "    </tr>\n",
       "    <tr>\n",
       "      <th>25%</th>\n",
       "      <td>0.000000</td>\n",
       "      <td>36.000000</td>\n",
       "      <td>0.000000</td>\n",
       "      <td>0.000000</td>\n",
       "      <td>1.000000</td>\n",
       "      <td>0.00000</td>\n",
       "      <td>77.830000</td>\n",
       "      <td>25.400000</td>\n",
       "      <td>0.000000</td>\n",
       "      <td>0.000000</td>\n",
       "    </tr>\n",
       "    <tr>\n",
       "      <th>50%</th>\n",
       "      <td>0.000000</td>\n",
       "      <td>50.000000</td>\n",
       "      <td>0.000000</td>\n",
       "      <td>0.000000</td>\n",
       "      <td>1.000000</td>\n",
       "      <td>1.00000</td>\n",
       "      <td>92.500000</td>\n",
       "      <td>29.300000</td>\n",
       "      <td>0.000000</td>\n",
       "      <td>0.000000</td>\n",
       "    </tr>\n",
       "    <tr>\n",
       "      <th>75%</th>\n",
       "      <td>1.000000</td>\n",
       "      <td>63.000000</td>\n",
       "      <td>0.000000</td>\n",
       "      <td>0.000000</td>\n",
       "      <td>1.000000</td>\n",
       "      <td>1.00000</td>\n",
       "      <td>114.830000</td>\n",
       "      <td>34.100000</td>\n",
       "      <td>0.000000</td>\n",
       "      <td>0.000000</td>\n",
       "    </tr>\n",
       "    <tr>\n",
       "      <th>max</th>\n",
       "      <td>1.000000</td>\n",
       "      <td>82.000000</td>\n",
       "      <td>1.000000</td>\n",
       "      <td>1.000000</td>\n",
       "      <td>1.000000</td>\n",
       "      <td>1.00000</td>\n",
       "      <td>291.050000</td>\n",
       "      <td>92.000000</td>\n",
       "      <td>1.000000</td>\n",
       "      <td>1.000000</td>\n",
       "    </tr>\n",
       "  </tbody>\n",
       "</table>\n",
       "</div>"
      ],
      "text/plain": [
       "               male           age  hypertension  heart_disease  ever_married  \\\n",
       "count  27045.000000  27045.000000  27045.000000   27045.000000  27045.000000   \n",
       "mean       0.382991     50.073322      0.119652       0.056055      0.801109   \n",
       "std        0.486125     17.147426      0.324561       0.230032      0.399173   \n",
       "min        0.000000     20.000000      0.000000       0.000000      0.000000   \n",
       "25%        0.000000     36.000000      0.000000       0.000000      1.000000   \n",
       "50%        0.000000     50.000000      0.000000       0.000000      1.000000   \n",
       "75%        1.000000     63.000000      0.000000       0.000000      1.000000   \n",
       "max        1.000000     82.000000      1.000000       1.000000      1.000000   \n",
       "\n",
       "       urban_resident  avg_glucose_level           bmi    has_smoked  \\\n",
       "count     27045.00000       27045.000000  27045.000000  27045.000000   \n",
       "mean          0.50305         107.402281     30.415330      0.223923   \n",
       "std           0.50000          46.205596      7.136071      0.416879   \n",
       "min           0.00000          55.010000     10.100000      0.000000   \n",
       "25%           0.00000          77.830000     25.400000      0.000000   \n",
       "50%           1.00000          92.500000     29.300000      0.000000   \n",
       "75%           1.00000         114.830000     34.100000      0.000000   \n",
       "max           1.00000         291.050000     92.000000      1.000000   \n",
       "\n",
       "             stroke  \n",
       "count  27045.000000  \n",
       "mean       0.020263  \n",
       "std        0.140900  \n",
       "min        0.000000  \n",
       "25%        0.000000  \n",
       "50%        0.000000  \n",
       "75%        0.000000  \n",
       "max        1.000000  "
      ]
     },
     "execution_count": 3,
     "metadata": {},
     "output_type": "execute_result"
    }
   ],
   "source": [
    "df.describe()"
   ]
  },
  {
   "cell_type": "markdown",
   "metadata": {
    "scrolled": true
   },
   "source": [
    "First, I want to do some general EDA, so I am going to put the data in different grous in an attempt to understand the causes of stroke and how we can predict future strokes."
   ]
  },
  {
   "cell_type": "code",
   "execution_count": 4,
   "metadata": {
    "scrolled": false
   },
   "outputs": [
    {
     "data": {
      "text/html": [
       "<div>\n",
       "<style scoped>\n",
       "    .dataframe tbody tr th:only-of-type {\n",
       "        vertical-align: middle;\n",
       "    }\n",
       "\n",
       "    .dataframe tbody tr th {\n",
       "        vertical-align: top;\n",
       "    }\n",
       "\n",
       "    .dataframe thead th {\n",
       "        text-align: right;\n",
       "    }\n",
       "</style>\n",
       "<table border=\"1\" class=\"dataframe\">\n",
       "  <thead>\n",
       "    <tr style=\"text-align: right;\">\n",
       "      <th></th>\n",
       "      <th>male</th>\n",
       "      <th>age</th>\n",
       "      <th>hypertension</th>\n",
       "      <th>heart_disease</th>\n",
       "      <th>ever_married</th>\n",
       "      <th>urban_resident</th>\n",
       "      <th>avg_glucose_level</th>\n",
       "      <th>bmi</th>\n",
       "      <th>has_smoked</th>\n",
       "    </tr>\n",
       "    <tr>\n",
       "      <th>stroke</th>\n",
       "      <th></th>\n",
       "      <th></th>\n",
       "      <th></th>\n",
       "      <th></th>\n",
       "      <th></th>\n",
       "      <th></th>\n",
       "      <th></th>\n",
       "      <th></th>\n",
       "      <th></th>\n",
       "    </tr>\n",
       "  </thead>\n",
       "  <tbody>\n",
       "    <tr>\n",
       "      <th>0</th>\n",
       "      <td>0.382043</td>\n",
       "      <td>49.692343</td>\n",
       "      <td>0.116126</td>\n",
       "      <td>0.052647</td>\n",
       "      <td>0.799147</td>\n",
       "      <td>0.502925</td>\n",
       "      <td>106.913309</td>\n",
       "      <td>30.427124</td>\n",
       "      <td>0.224327</td>\n",
       "    </tr>\n",
       "    <tr>\n",
       "      <th>1</th>\n",
       "      <td>0.428832</td>\n",
       "      <td>68.494526</td>\n",
       "      <td>0.290146</td>\n",
       "      <td>0.220803</td>\n",
       "      <td>0.895985</td>\n",
       "      <td>0.509124</td>\n",
       "      <td>131.045182</td>\n",
       "      <td>29.845073</td>\n",
       "      <td>0.204380</td>\n",
       "    </tr>\n",
       "  </tbody>\n",
       "</table>\n",
       "</div>"
      ],
      "text/plain": [
       "            male        age  hypertension  heart_disease  ever_married  \\\n",
       "stroke                                                                   \n",
       "0       0.382043  49.692343      0.116126       0.052647      0.799147   \n",
       "1       0.428832  68.494526      0.290146       0.220803      0.895985   \n",
       "\n",
       "        urban_resident  avg_glucose_level        bmi  has_smoked  \n",
       "stroke                                                            \n",
       "0             0.502925         106.913309  30.427124    0.224327  \n",
       "1             0.509124         131.045182  29.845073    0.204380  "
      ]
     },
     "execution_count": 4,
     "metadata": {},
     "output_type": "execute_result"
    }
   ],
   "source": [
    "#Create groupby object for stroke\n",
    "str_group=df.groupby('stroke').mean()\n",
    "str_group\n"
   ]
  },
  {
   "cell_type": "code",
   "execution_count": 5,
   "metadata": {},
   "outputs": [
    {
     "data": {
      "image/png": "[encoded data removed]",
      "text/plain": [
       "<Figure size 432x288 with 2 Axes>"
      ]
     },
     "metadata": {
      "needs_background": "light"
     },
     "output_type": "display_data"
    },
    {
     "name": "stdout",
     "output_type": "stream",
     "text": [
      "The correlation between hypertension and stroke is 0.075546098878 and the correlation between heart disease and stroke is 0.10299901651\n"
     ]
    }
   ],
   "source": [
    "#create subplots\n",
    "f, axes = plt.subplots(2, 1)\n",
    "#bar graph of percentage of hypertension by whether one has had a stroke\n",
    "sns.barplot(x=str_group.index, y=str_group.hypertension, ax=axes[0])\n",
    "axes[0].set(ylabel='Rate of Hypertension',  xlabel='History of Stroke')\n",
    "#change xticks\n",
    "plt.sca(axes[0])\n",
    "plt.xticks(np.arange(2),['No', 'Yes'])\n",
    "#bar graph of percentage of heart disease by whether one has had a stroke\n",
    "sns.barplot(x=str_group.index, y=str_group.heart_disease, ax=axes[1])\n",
    "axes[1].set(ylabel='Rate of Heart Disease', xlabel='History of Stroke')\n",
    "#change xticks\n",
    "plt.sca(axes[1])\n",
    "plt.xticks(np.arange(2),['No', 'Yes'])\n",
    "plt.show()\n",
    "print('The correlation between hypertension and stroke is {} and the correlation between heart disease and stroke is {}'\n",
    "     ).format(np.corrcoef(df.hypertension, df.stroke)[0,1],np.corrcoef(df.heart_disease, df.stroke)[0,1]),\n"
   ]
  },
  {
   "cell_type": "code",
   "execution_count": 59,
   "metadata": {},
   "outputs": [
    {
     "data": {
      "text/html": [
       "<div>\n",
       "<style scoped>\n",
       "    .dataframe tbody tr th:only-of-type {\n",
       "        vertical-align: middle;\n",
       "    }\n",
       "\n",
       "    .dataframe tbody tr th {\n",
       "        vertical-align: top;\n",
       "    }\n",
       "\n",
       "    .dataframe thead th {\n",
       "        text-align: right;\n",
       "    }\n",
       "</style>\n",
       "<table border=\"1\" class=\"dataframe\">\n",
       "  <thead>\n",
       "    <tr style=\"text-align: right;\">\n",
       "      <th></th>\n",
       "      <th>male</th>\n",
       "      <th>age</th>\n",
       "      <th>hypertension</th>\n",
       "      <th>heart_disease</th>\n",
       "      <th>ever_married</th>\n",
       "      <th>urban_resident</th>\n",
       "      <th>avg_glucose_level</th>\n",
       "      <th>bmi</th>\n",
       "      <th>has_smoked</th>\n",
       "      <th>stroke</th>\n",
       "    </tr>\n",
       "    <tr>\n",
       "      <th>risk_factor</th>\n",
       "      <th></th>\n",
       "      <th></th>\n",
       "      <th></th>\n",
       "      <th></th>\n",
       "      <th></th>\n",
       "      <th></th>\n",
       "      <th></th>\n",
       "      <th></th>\n",
       "      <th></th>\n",
       "      <th></th>\n",
       "    </tr>\n",
       "  </thead>\n",
       "  <tbody>\n",
       "    <tr>\n",
       "      <th>Both</th>\n",
       "      <td>0.569682</td>\n",
       "      <td>69.276284</td>\n",
       "      <td>1.000000</td>\n",
       "      <td>1.000000</td>\n",
       "      <td>0.916870</td>\n",
       "      <td>0.520782</td>\n",
       "      <td>139.307188</td>\n",
       "      <td>31.555990</td>\n",
       "      <td>0.261614</td>\n",
       "      <td>0.088020</td>\n",
       "    </tr>\n",
       "    <tr>\n",
       "      <th>Neither</th>\n",
       "      <td>0.365034</td>\n",
       "      <td>47.650692</td>\n",
       "      <td>0.000000</td>\n",
       "      <td>0.000000</td>\n",
       "      <td>0.779799</td>\n",
       "      <td>0.504581</td>\n",
       "      <td>103.597939</td>\n",
       "      <td>30.090041</td>\n",
       "      <td>0.226015</td>\n",
       "      <td>0.013391</td>\n",
       "    </tr>\n",
       "    <tr>\n",
       "      <th>One</th>\n",
       "      <td>0.467209</td>\n",
       "      <td>62.057194</td>\n",
       "      <td>0.718607</td>\n",
       "      <td>0.281393</td>\n",
       "      <td>0.912049</td>\n",
       "      <td>0.492374</td>\n",
       "      <td>126.039059</td>\n",
       "      <td>32.173894</td>\n",
       "      <td>0.207931</td>\n",
       "      <td>0.052872</td>\n",
       "    </tr>\n",
       "  </tbody>\n",
       "</table>\n",
       "</div>"
      ],
      "text/plain": [
       "                 male        age  hypertension  heart_disease  ever_married  \\\n",
       "risk_factor                                                                   \n",
       "Both         0.569682  69.276284      1.000000       1.000000      0.916870   \n",
       "Neither      0.365034  47.650692      0.000000       0.000000      0.779799   \n",
       "One          0.467209  62.057194      0.718607       0.281393      0.912049   \n",
       "\n",
       "             urban_resident  avg_glucose_level        bmi  has_smoked  \\\n",
       "risk_factor                                                             \n",
       "Both               0.520782         139.307188  31.555990    0.261614   \n",
       "Neither            0.504581         103.597939  30.090041    0.226015   \n",
       "One                0.492374         126.039059  32.173894    0.207931   \n",
       "\n",
       "               stroke  \n",
       "risk_factor            \n",
       "Both         0.088020  \n",
       "Neither      0.013391  \n",
       "One          0.052872  "
      ]
     },
     "execution_count": 59,
     "metadata": {},
     "output_type": "execute_result"
    }
   ],
   "source": [
    "#create groupby object grouped by risk factor\n",
    "risk= df.groupby('risk_factor').mean()\n",
    "risk"
   ]
  },
  {
   "cell_type": "code",
   "execution_count": 60,
   "metadata": {},
   "outputs": [
    {
     "data": {
      "text/plain": [
       "Text(0,0.5,'Rate of Stroke')"
      ]
     },
     "execution_count": 60,
     "metadata": {},
     "output_type": "execute_result"
    },
    {
     "data": {
      "image/png": "[encoded data removed]",
      "text/plain": [
       "<Figure size 432x288 with 1 Axes>"
      ]
     },
     "metadata": {
      "needs_background": "light"
     },
     "output_type": "display_data"
    }
   ],
   "source": [
    "#Create bar graph risk factor and percentage of people who have had a stroke\n",
    "sns.barplot(x=risk.index, y=risk.stroke)\n",
    "plt.xlabel('History of Heart Disease and Hypertension')\n",
    "plt.ylabel('Rate of Stroke')"
   ]
  },
  {
   "cell_type": "markdown",
   "metadata": {},
   "source": [
    "As one would expect, having both risk factors greatly increases your risk over someone who has none.\n",
    "\n",
    "\n",
    "\n",
    "It appears stroke victims are older and are much more likely to have high blood pressure and heart disease than those who have never suffered a stroke. Let's look at how the other varibles affect all three of these conditions. This may give us insight into what the underlying risk factors for stroke may be."
   ]
  },
  {
   "cell_type": "code",
   "execution_count": 61,
   "metadata": {},
   "outputs": [
    {
     "data": {
      "text/html": [
       "<div>\n",
       "<style scoped>\n",
       "    .dataframe tbody tr th:only-of-type {\n",
       "        vertical-align: middle;\n",
       "    }\n",
       "\n",
       "    .dataframe tbody tr th {\n",
       "        vertical-align: top;\n",
       "    }\n",
       "\n",
       "    .dataframe thead th {\n",
       "        text-align: right;\n",
       "    }\n",
       "</style>\n",
       "<table border=\"1\" class=\"dataframe\">\n",
       "  <thead>\n",
       "    <tr style=\"text-align: right;\">\n",
       "      <th></th>\n",
       "      <th>male</th>\n",
       "      <th>age</th>\n",
       "      <th>hypertension</th>\n",
       "      <th>heart_disease</th>\n",
       "      <th>ever_married</th>\n",
       "      <th>urban_resident</th>\n",
       "      <th>avg_glucose_level</th>\n",
       "      <th>bmi</th>\n",
       "      <th>has_smoked</th>\n",
       "      <th>stroke</th>\n",
       "    </tr>\n",
       "  </thead>\n",
       "  <tbody>\n",
       "    <tr>\n",
       "      <th>20-29</th>\n",
       "      <td>0.313658</td>\n",
       "      <td>24.652507</td>\n",
       "      <td>0.009385</td>\n",
       "      <td>0.000741</td>\n",
       "      <td>0.314646</td>\n",
       "      <td>0.504075</td>\n",
       "      <td>93.652867</td>\n",
       "      <td>28.404816</td>\n",
       "      <td>0.258088</td>\n",
       "      <td>0.000247</td>\n",
       "    </tr>\n",
       "    <tr>\n",
       "      <th>30-39</th>\n",
       "      <td>0.360066</td>\n",
       "      <td>34.561864</td>\n",
       "      <td>0.042347</td>\n",
       "      <td>0.003075</td>\n",
       "      <td>0.744736</td>\n",
       "      <td>0.493731</td>\n",
       "      <td>97.926220</td>\n",
       "      <td>30.684268</td>\n",
       "      <td>0.255974</td>\n",
       "      <td>0.003075</td>\n",
       "    </tr>\n",
       "    <tr>\n",
       "      <th>40-49</th>\n",
       "      <td>0.390269</td>\n",
       "      <td>44.634767</td>\n",
       "      <td>0.090046</td>\n",
       "      <td>0.020392</td>\n",
       "      <td>0.887341</td>\n",
       "      <td>0.510600</td>\n",
       "      <td>101.710537</td>\n",
       "      <td>31.282596</td>\n",
       "      <td>0.259035</td>\n",
       "      <td>0.005653</td>\n",
       "    </tr>\n",
       "    <tr>\n",
       "      <th>50-59</th>\n",
       "      <td>0.400976</td>\n",
       "      <td>54.377511</td>\n",
       "      <td>0.137225</td>\n",
       "      <td>0.048433</td>\n",
       "      <td>0.930730</td>\n",
       "      <td>0.499343</td>\n",
       "      <td>110.122326</td>\n",
       "      <td>31.399700</td>\n",
       "      <td>0.241412</td>\n",
       "      <td>0.016707</td>\n",
       "    </tr>\n",
       "    <tr>\n",
       "      <th>60-69</th>\n",
       "      <td>0.416085</td>\n",
       "      <td>64.124248</td>\n",
       "      <td>0.195521</td>\n",
       "      <td>0.097520</td>\n",
       "      <td>0.942451</td>\n",
       "      <td>0.509993</td>\n",
       "      <td>118.505456</td>\n",
       "      <td>31.302095</td>\n",
       "      <td>0.192873</td>\n",
       "      <td>0.026728</td>\n",
       "    </tr>\n",
       "    <tr>\n",
       "      <th>70-79</th>\n",
       "      <td>0.414657</td>\n",
       "      <td>74.858689</td>\n",
       "      <td>0.229746</td>\n",
       "      <td>0.157390</td>\n",
       "      <td>0.927335</td>\n",
       "      <td>0.500309</td>\n",
       "      <td>121.820538</td>\n",
       "      <td>29.400526</td>\n",
       "      <td>0.138219</td>\n",
       "      <td>0.066172</td>\n",
       "    </tr>\n",
       "    <tr>\n",
       "      <th>80+</th>\n",
       "      <td>0.388385</td>\n",
       "      <td>80.921960</td>\n",
       "      <td>0.260436</td>\n",
       "      <td>0.205989</td>\n",
       "      <td>0.887477</td>\n",
       "      <td>0.500907</td>\n",
       "      <td>122.545744</td>\n",
       "      <td>27.750726</td>\n",
       "      <td>0.101633</td>\n",
       "      <td>0.083485</td>\n",
       "    </tr>\n",
       "  </tbody>\n",
       "</table>\n",
       "</div>"
      ],
      "text/plain": [
       "           male        age  hypertension  heart_disease  ever_married  \\\n",
       "20-29  0.313658  24.652507      0.009385       0.000741      0.314646   \n",
       "30-39  0.360066  34.561864      0.042347       0.003075      0.744736   \n",
       "40-49  0.390269  44.634767      0.090046       0.020392      0.887341   \n",
       "50-59  0.400976  54.377511      0.137225       0.048433      0.930730   \n",
       "60-69  0.416085  64.124248      0.195521       0.097520      0.942451   \n",
       "70-79  0.414657  74.858689      0.229746       0.157390      0.927335   \n",
       "80+    0.388385  80.921960      0.260436       0.205989      0.887477   \n",
       "\n",
       "       urban_resident  avg_glucose_level        bmi  has_smoked    stroke  \n",
       "20-29        0.504075          93.652867  28.404816    0.258088  0.000247  \n",
       "30-39        0.493731          97.926220  30.684268    0.255974  0.003075  \n",
       "40-49        0.510600         101.710537  31.282596    0.259035  0.005653  \n",
       "50-59        0.499343         110.122326  31.399700    0.241412  0.016707  \n",
       "60-69        0.509993         118.505456  31.302095    0.192873  0.026728  \n",
       "70-79        0.500309         121.820538  29.400526    0.138219  0.066172  \n",
       "80+          0.500907         122.545744  27.750726    0.101633  0.083485  "
      ]
     },
     "execution_count": 61,
     "metadata": {},
     "output_type": "execute_result"
    }
   ],
   "source": [
    "#create a groupby object with 10 year age containers\n",
    "age_groups= df.groupby([df.age.astype(float)//10*10])\n",
    "gmean=age_groups.mean()\n",
    "gmean.index= ['20-29', '30-39', '40-49', '50-59', '60-69','70-79', '80+' ]\n",
    "gmean"
   ]
  },
  {
   "cell_type": "code",
   "execution_count": 62,
   "metadata": {
    "scrolled": false
   },
   "outputs": [
    {
     "data": {
      "image/png": "[encoded data removed]",
      "text/plain": [
       "<Figure size 432x288 with 3 Axes>"
      ]
     },
     "metadata": {
      "needs_background": "light"
     },
     "output_type": "display_data"
    }
   ],
   "source": [
    "#Create subplots\n",
    "f, axes = plt.subplots(3, 1)\n",
    "#Bar graph of the percentage of each age group to suffer a stroke\n",
    "sns.barplot(x=gmean.index, y=gmean.stroke, ax=axes[0] )\n",
    "#Bar graph of the percentage of each age group to have high blood pressure\n",
    "sns.barplot(x=gmean.index, y=gmean.hypertension, ax=axes[1])\n",
    "#Bar graph of the percentage of each age group to suffer from heart disease\n",
    "sns.barplot(x=gmean.index, y=gmean.heart_disease, ax = axes[2])\n",
    "f.tight_layout()\n",
    "plt.show()"
   ]
  },
  {
   "cell_type": "markdown",
   "metadata": {},
   "source": [
    "It appears age is a huge factor in predicting stroke, hypertension and heart disease. This makes sense because older people are more susceptible to most medical conditions. We should keep an eye out to see how age related other variables are. "
   ]
  },
  {
   "cell_type": "code",
   "execution_count": 63,
   "metadata": {
    "scrolled": true
   },
   "outputs": [
    {
     "data": {
      "text/html": [
       "<div>\n",
       "<style scoped>\n",
       "    .dataframe tbody tr th:only-of-type {\n",
       "        vertical-align: middle;\n",
       "    }\n",
       "\n",
       "    .dataframe tbody tr th {\n",
       "        vertical-align: top;\n",
       "    }\n",
       "\n",
       "    .dataframe thead th {\n",
       "        text-align: right;\n",
       "    }\n",
       "</style>\n",
       "<table border=\"1\" class=\"dataframe\">\n",
       "  <thead>\n",
       "    <tr style=\"text-align: right;\">\n",
       "      <th></th>\n",
       "      <th>male</th>\n",
       "      <th>age</th>\n",
       "      <th>hypertension</th>\n",
       "      <th>heart_disease</th>\n",
       "      <th>ever_married</th>\n",
       "      <th>urban_resident</th>\n",
       "      <th>avg_glucose_level</th>\n",
       "      <th>bmi</th>\n",
       "      <th>has_smoked</th>\n",
       "      <th>stroke</th>\n",
       "    </tr>\n",
       "    <tr>\n",
       "      <th>bmi_class</th>\n",
       "      <th></th>\n",
       "      <th></th>\n",
       "      <th></th>\n",
       "      <th></th>\n",
       "      <th></th>\n",
       "      <th></th>\n",
       "      <th></th>\n",
       "      <th></th>\n",
       "      <th></th>\n",
       "      <th></th>\n",
       "    </tr>\n",
       "  </thead>\n",
       "  <tbody>\n",
       "    <tr>\n",
       "      <th>Normal</th>\n",
       "      <td>0.265383</td>\n",
       "      <td>46.906841</td>\n",
       "      <td>0.062908</td>\n",
       "      <td>0.042454</td>\n",
       "      <td>0.733070</td>\n",
       "      <td>0.508594</td>\n",
       "      <td>98.592260</td>\n",
       "      <td>22.624184</td>\n",
       "      <td>0.242351</td>\n",
       "      <td>0.018391</td>\n",
       "    </tr>\n",
       "    <tr>\n",
       "      <th>Obese</th>\n",
       "      <td>0.406369</td>\n",
       "      <td>50.801727</td>\n",
       "      <td>0.152804</td>\n",
       "      <td>0.060044</td>\n",
       "      <td>0.828818</td>\n",
       "      <td>0.502693</td>\n",
       "      <td>114.543948</td>\n",
       "      <td>36.252780</td>\n",
       "      <td>0.214195</td>\n",
       "      <td>0.019249</td>\n",
       "    </tr>\n",
       "    <tr>\n",
       "      <th>Overweight</th>\n",
       "      <td>0.434091</td>\n",
       "      <td>51.154187</td>\n",
       "      <td>0.110526</td>\n",
       "      <td>0.059928</td>\n",
       "      <td>0.808612</td>\n",
       "      <td>0.499522</td>\n",
       "      <td>103.010923</td>\n",
       "      <td>27.409402</td>\n",
       "      <td>0.223206</td>\n",
       "      <td>0.022727</td>\n",
       "    </tr>\n",
       "    <tr>\n",
       "      <th>Underweight</th>\n",
       "      <td>0.226337</td>\n",
       "      <td>50.860082</td>\n",
       "      <td>0.069959</td>\n",
       "      <td>0.041152</td>\n",
       "      <td>0.732510</td>\n",
       "      <td>0.510288</td>\n",
       "      <td>98.398395</td>\n",
       "      <td>17.108642</td>\n",
       "      <td>0.312757</td>\n",
       "      <td>0.032922</td>\n",
       "    </tr>\n",
       "  </tbody>\n",
       "</table>\n",
       "</div>"
      ],
      "text/plain": [
       "                 male        age  hypertension  heart_disease  ever_married  \\\n",
       "bmi_class                                                                     \n",
       "Normal       0.265383  46.906841      0.062908       0.042454      0.733070   \n",
       "Obese        0.406369  50.801727      0.152804       0.060044      0.828818   \n",
       "Overweight   0.434091  51.154187      0.110526       0.059928      0.808612   \n",
       "Underweight  0.226337  50.860082      0.069959       0.041152      0.732510   \n",
       "\n",
       "             urban_resident  avg_glucose_level        bmi  has_smoked  \\\n",
       "bmi_class                                                               \n",
       "Normal             0.508594          98.592260  22.624184    0.242351   \n",
       "Obese              0.502693         114.543948  36.252780    0.214195   \n",
       "Overweight         0.499522         103.010923  27.409402    0.223206   \n",
       "Underweight        0.510288          98.398395  17.108642    0.312757   \n",
       "\n",
       "               stroke  \n",
       "bmi_class              \n",
       "Normal       0.018391  \n",
       "Obese        0.019249  \n",
       "Overweight   0.022727  \n",
       "Underweight  0.032922  "
      ]
     },
     "execution_count": 63,
     "metadata": {},
     "output_type": "execute_result"
    }
   ],
   "source": [
    "#create groupby object for bmi class\n",
    "grbmimean=df.groupby('bmi_class').mean()\n",
    "\n",
    "grbmimean"
   ]
  },
  {
   "cell_type": "code",
   "execution_count": 64,
   "metadata": {},
   "outputs": [
    {
     "data": {
      "text/plain": [
       "Obese          12624\n",
       "Overweight      8360\n",
       "Normal          5818\n",
       "Underweight      243\n",
       "Name: bmi_class, dtype: int64"
      ]
     },
     "execution_count": 64,
     "metadata": {},
     "output_type": "execute_result"
    }
   ],
   "source": [
    "df.bmi_class.value_counts()"
   ]
  },
  {
   "cell_type": "code",
   "execution_count": 65,
   "metadata": {
    "scrolled": true
   },
   "outputs": [
    {
     "data": {
      "image/png": "[encoded data removed]",
      "text/plain": [
       "<Figure size 432x288 with 3 Axes>"
      ]
     },
     "metadata": {
      "needs_background": "light"
     },
     "output_type": "display_data"
    },
    {
     "name": "stdout",
     "output_type": "stream",
     "text": [
      "The correlation between bmi and stroke is -0.0114924189718\n"
     ]
    }
   ],
   "source": [
    "#create subplots\n",
    "f, axes = plt.subplots(3, 1)\n",
    "#bar graph of percentage of stroke victims in each bmi class\n",
    "sns.barplot(x=grbmimean.index, y=grbmimean.stroke, ax=axes[0])\n",
    "axes[0].set(ylabel='Stroke Rate',  xlabel='BMI Class')\n",
    "#bar graph of percentage of people with high blood pressure in each bmi class\n",
    "sns.barplot(x=grbmimean.index, y=grbmimean.hypertension, ax=axes[1])\n",
    "axes[1].set(ylabel='Hypertension Rate',  xlabel='BMI Class')\n",
    "#bar graph of percentage of people who suffer from heart disease in each bmi class\n",
    "sns.barplot(x=grbmimean.index, y=grbmimean.heart_disease, ax=axes[2])\n",
    "axes[2].set(ylabel='Heart Disease Rate',  xlabel='BMI Class')\n",
    "f.tight_layout()\n",
    "plt.show()\n",
    "print('The correlation between bmi and stroke is {}').format(np.corrcoef(df.bmi, df.stroke)[1,0])"
   ]
  },
  {
   "cell_type": "markdown",
   "metadata": {},
   "source": [
    "These results are somewhat surprising. While people classified as overweight or obese are more likely to have heart disease and hypertension, underweight subjects are actually most at risk for stroke. This is bourne out by the fact that the correlation between bmi and stroke is negative. Lets compare the cdfs of bmi on stroke and non stroke victims. This will show us if there are any descrepencies in the distributions."
   ]
  },
  {
   "cell_type": "code",
   "execution_count": 66,
   "metadata": {
    "scrolled": true
   },
   "outputs": [
    {
     "data": {
      "image/png": "[encoded data removed]",
      "text/plain": [
       "<Figure size 432x288 with 1 Axes>"
      ]
     },
     "metadata": {
      "needs_background": "light"
     },
     "output_type": "display_data"
    }
   ],
   "source": [
    "#Use ecdf function to get x, y coordinates cdf's for the bmi for people who have and have not had strokes\n",
    "strx_bmi,stry_bmi= ecdf(df.bmi[df.stroke==1])\n",
    "x_norm, y_norm= ecdf(df.bmi[df.stroke==0])\n",
    "#Plot both lines\n",
    "plt.plot(x_norm,y_norm, color='red', linestyle='none', marker='.',)\n",
    "plt.plot(strx_bmi,stry_bmi, color='blue' , linestyle='none', marker='o')\n",
    "#Label Axis\n",
    "plt.xlabel('BMI')\n",
    "plt.ylabel('Percentage under this level')\n",
    "#Add Legend\n",
    "plt.legend(('No previous stroke', 'Previous Stroke'),loc='lower right')\n",
    "plt.show()"
   ]
  },
  {
   "cell_type": "markdown",
   "metadata": {},
   "source": [
    "There dos not appear to be a significant difference in the distributions. This shows that people tend to have similar BMI's regardless of their history of stroke. Next lets look at glucose level."
   ]
  },
  {
   "cell_type": "code",
   "execution_count": 67,
   "metadata": {},
   "outputs": [
    {
     "data": {
      "text/html": [
       "<div>\n",
       "<style scoped>\n",
       "    .dataframe tbody tr th:only-of-type {\n",
       "        vertical-align: middle;\n",
       "    }\n",
       "\n",
       "    .dataframe tbody tr th {\n",
       "        vertical-align: top;\n",
       "    }\n",
       "\n",
       "    .dataframe thead th {\n",
       "        text-align: right;\n",
       "    }\n",
       "</style>\n",
       "<table border=\"1\" class=\"dataframe\">\n",
       "  <thead>\n",
       "    <tr style=\"text-align: right;\">\n",
       "      <th></th>\n",
       "      <th>male</th>\n",
       "      <th>age</th>\n",
       "      <th>hypertension</th>\n",
       "      <th>heart_disease</th>\n",
       "      <th>ever_married</th>\n",
       "      <th>urban_resident</th>\n",
       "      <th>avg_glucose_level</th>\n",
       "      <th>bmi</th>\n",
       "      <th>has_smoked</th>\n",
       "      <th>stroke</th>\n",
       "    </tr>\n",
       "    <tr>\n",
       "      <th>glucose_class</th>\n",
       "      <th></th>\n",
       "      <th></th>\n",
       "      <th></th>\n",
       "      <th></th>\n",
       "      <th></th>\n",
       "      <th></th>\n",
       "      <th></th>\n",
       "      <th></th>\n",
       "      <th></th>\n",
       "      <th></th>\n",
       "    </tr>\n",
       "  </thead>\n",
       "  <tbody>\n",
       "    <tr>\n",
       "      <th>0-20th</th>\n",
       "      <td>0.374271</td>\n",
       "      <td>48.709046</td>\n",
       "      <td>0.100056</td>\n",
       "      <td>0.046455</td>\n",
       "      <td>0.791612</td>\n",
       "      <td>0.508181</td>\n",
       "      <td>65.691877</td>\n",
       "      <td>29.869945</td>\n",
       "      <td>0.231710</td>\n",
       "      <td>0.016739</td>\n",
       "    </tr>\n",
       "    <tr>\n",
       "      <th>21st-40th</th>\n",
       "      <td>0.376554</td>\n",
       "      <td>48.239625</td>\n",
       "      <td>0.096194</td>\n",
       "      <td>0.036336</td>\n",
       "      <td>0.781794</td>\n",
       "      <td>0.499904</td>\n",
       "      <td>80.217875</td>\n",
       "      <td>29.845439</td>\n",
       "      <td>0.228151</td>\n",
       "      <td>0.016829</td>\n",
       "    </tr>\n",
       "    <tr>\n",
       "      <th>41st-60th</th>\n",
       "      <td>0.364645</td>\n",
       "      <td>48.260187</td>\n",
       "      <td>0.097570</td>\n",
       "      <td>0.041324</td>\n",
       "      <td>0.779032</td>\n",
       "      <td>0.506983</td>\n",
       "      <td>91.700729</td>\n",
       "      <td>29.931930</td>\n",
       "      <td>0.216377</td>\n",
       "      <td>0.013775</td>\n",
       "    </tr>\n",
       "    <tr>\n",
       "      <th>61st-80th</th>\n",
       "      <td>0.368680</td>\n",
       "      <td>48.360348</td>\n",
       "      <td>0.096383</td>\n",
       "      <td>0.041091</td>\n",
       "      <td>0.784889</td>\n",
       "      <td>0.493467</td>\n",
       "      <td>107.262820</td>\n",
       "      <td>29.789869</td>\n",
       "      <td>0.221928</td>\n",
       "      <td>0.014202</td>\n",
       "    </tr>\n",
       "    <tr>\n",
       "      <th>81st-100th</th>\n",
       "      <td>0.424971</td>\n",
       "      <td>55.976465</td>\n",
       "      <td>0.197296</td>\n",
       "      <td>0.107828</td>\n",
       "      <td>0.859957</td>\n",
       "      <td>0.506259</td>\n",
       "      <td>181.969130</td>\n",
       "      <td>32.369855</td>\n",
       "      <td>0.221666</td>\n",
       "      <td>0.037389</td>\n",
       "    </tr>\n",
       "  </tbody>\n",
       "</table>\n",
       "</div>"
      ],
      "text/plain": [
       "                   male        age  hypertension  heart_disease  ever_married  \\\n",
       "glucose_class                                                                   \n",
       "0-20th         0.374271  48.709046      0.100056       0.046455      0.791612   \n",
       "21st-40th      0.376554  48.239625      0.096194       0.036336      0.781794   \n",
       "41st-60th      0.364645  48.260187      0.097570       0.041324      0.779032   \n",
       "61st-80th      0.368680  48.360348      0.096383       0.041091      0.784889   \n",
       "81st-100th     0.424971  55.976465      0.197296       0.107828      0.859957   \n",
       "\n",
       "               urban_resident  avg_glucose_level        bmi  has_smoked  \\\n",
       "glucose_class                                                             \n",
       "0-20th               0.508181          65.691877  29.869945    0.231710   \n",
       "21st-40th            0.499904          80.217875  29.845439    0.228151   \n",
       "41st-60th            0.506983          91.700729  29.931930    0.216377   \n",
       "61st-80th            0.493467         107.262820  29.789869    0.221928   \n",
       "81st-100th           0.506259         181.969130  32.369855    0.221666   \n",
       "\n",
       "                 stroke  \n",
       "glucose_class            \n",
       "0-20th         0.016739  \n",
       "21st-40th      0.016829  \n",
       "41st-60th      0.013775  \n",
       "61st-80th      0.014202  \n",
       "81st-100th     0.037389  "
      ]
     },
     "execution_count": 67,
     "metadata": {},
     "output_type": "execute_result"
    }
   ],
   "source": [
    "#create groupby object grouped by the the classification of glucose \n",
    "grglumean=df.groupby('glucose_class').mean()\n",
    "\n",
    "\n",
    "grglumean"
   ]
  },
  {
   "cell_type": "code",
   "execution_count": 68,
   "metadata": {
    "scrolled": true
   },
   "outputs": [
    {
     "data": {
      "image/png": "[encoded data removed]",
      "text/plain": [
       "<Figure size 432x288 with 3 Axes>"
      ]
     },
     "metadata": {
      "needs_background": "light"
     },
     "output_type": "display_data"
    },
    {
     "name": "stdout",
     "output_type": "stream",
     "text": [
      "The correlation between glucose level and stroke is 0.0735878549177\n"
     ]
    }
   ],
   "source": [
    "#create subplots\n",
    "f, axes = plt.subplots(3, 1)\n",
    "#bar graph of percentage of stroke victims in each glucose class\n",
    "sns.barplot(x=grglumean.index, y=grglumean.stroke, ax=axes[0])\n",
    "axes[0].set(ylabel='Rate of Stroke',  xlabel='Glucose Class')\n",
    "#bar graph of percentage of hypertension in each glucose class\n",
    "sns.barplot(x=grglumean.index, y=grglumean.hypertension, ax=axes[1])\n",
    "axes[1].set(ylabel='Hypertension Rate',  xlabel='Glucose Class')\n",
    "#bar graph of percentage of people with heart disease in each glucose class\n",
    "sns.barplot(x=grglumean.index, y=grglumean.heart_disease, ax=axes[2])\n",
    "axes[2].set(ylabel=' Heart Disease Rate',  xlabel='Glucose Class')\n",
    "\n",
    "f.tight_layout()\n",
    "plt.show()\n",
    "print('The correlation between glucose level and stroke is {}').format(np.corrcoef(df.avg_glucose_level, df.stroke)[1,0])"
   ]
  },
  {
   "cell_type": "markdown",
   "metadata": {},
   "source": [
    "It appears there is a threshhold for when an average glucose level becomes too high. We can see this because people in the highest class of average glucose level are at significantly higher risk for hypertension, heart disease and stroke. This shows that despite only a small correlation glucose level can be predictive when is comes to stroke. One caveat to this would be that people with the highest average glucose levels tend to be significantly older."
   ]
  },
  {
   "cell_type": "code",
   "execution_count": 14,
   "metadata": {},
   "outputs": [
    {
     "data": {
      "image/png": "[encoded data removed]",
      "text/plain": [
       "<Figure size 432x288 with 1 Axes>"
      ]
     },
     "metadata": {
      "needs_background": "light"
     },
     "output_type": "display_data"
    }
   ],
   "source": [
    "#Use ecdf function to get x, y coordinates cdf's for the glucose level for people who have and have not had strokes\n",
    "strx_glu,stry_glu= ecdf(df.avg_glucose_level[df.stroke==1])\n",
    "x_glu, y_glu= ecdf(df.avg_glucose_level[df.stroke==0])\n",
    "#Plot both lines\n",
    "plt.plot(strx_glu,stry_glu, linestyle='none', marker='o')\n",
    "plt.plot(x_glu,y_glu, color='red', linestyle='none', marker='.')\n",
    "#Label axis\n",
    "plt.xlabel('Averge Glucose level')\n",
    "plt.ylabel('Percentage under this level')\n",
    "#create labels\n",
    "plt.legend(( 'Stroke','No previous Stroke'),loc='lower right')\n",
    "\n",
    "plt.show()"
   ]
  },
  {
   "cell_type": "markdown",
   "metadata": {},
   "source": [
    "As is shown in the figure, stroke victims tend to have extreme glucose levels at one end or another. The large gap between the cdf's in the middle shows that nearly 40% of non stroke victims have glucose levels between 100 and 150 while around 15% of stroke victims are in that group."
   ]
  },
  {
   "cell_type": "code",
   "execution_count": 15,
   "metadata": {},
   "outputs": [
    {
     "data": {
      "text/html": [
       "<div>\n",
       "<style scoped>\n",
       "    .dataframe tbody tr th:only-of-type {\n",
       "        vertical-align: middle;\n",
       "    }\n",
       "\n",
       "    .dataframe tbody tr th {\n",
       "        vertical-align: top;\n",
       "    }\n",
       "\n",
       "    .dataframe thead th {\n",
       "        text-align: right;\n",
       "    }\n",
       "</style>\n",
       "<table border=\"1\" class=\"dataframe\">\n",
       "  <thead>\n",
       "    <tr style=\"text-align: right;\">\n",
       "      <th></th>\n",
       "      <th>age</th>\n",
       "      <th>hypertension</th>\n",
       "      <th>heart_disease</th>\n",
       "      <th>ever_married</th>\n",
       "      <th>urban_resident</th>\n",
       "      <th>avg_glucose_level</th>\n",
       "      <th>bmi</th>\n",
       "      <th>has_smoked</th>\n",
       "      <th>stroke</th>\n",
       "    </tr>\n",
       "    <tr>\n",
       "      <th>male</th>\n",
       "      <th></th>\n",
       "      <th></th>\n",
       "      <th></th>\n",
       "      <th></th>\n",
       "      <th></th>\n",
       "      <th></th>\n",
       "      <th></th>\n",
       "      <th></th>\n",
       "      <th></th>\n",
       "    </tr>\n",
       "  </thead>\n",
       "  <tbody>\n",
       "    <tr>\n",
       "      <th>0</th>\n",
       "      <td>49.260262</td>\n",
       "      <td>0.109307</td>\n",
       "      <td>0.037394</td>\n",
       "      <td>0.788278</td>\n",
       "      <td>0.500509</td>\n",
       "      <td>105.390499</td>\n",
       "      <td>30.254024</td>\n",
       "      <td>0.204351</td>\n",
       "      <td>0.018757</td>\n",
       "    </tr>\n",
       "    <tr>\n",
       "      <th>1</th>\n",
       "      <td>51.383182</td>\n",
       "      <td>0.136320</td>\n",
       "      <td>0.086117</td>\n",
       "      <td>0.821780</td>\n",
       "      <td>0.507144</td>\n",
       "      <td>110.643314</td>\n",
       "      <td>30.675198</td>\n",
       "      <td>0.255455</td>\n",
       "      <td>0.022688</td>\n",
       "    </tr>\n",
       "  </tbody>\n",
       "</table>\n",
       "</div>"
      ],
      "text/plain": [
       "            age  hypertension  heart_disease  ever_married  urban_resident  \\\n",
       "male                                                                         \n",
       "0     49.260262      0.109307       0.037394      0.788278        0.500509   \n",
       "1     51.383182      0.136320       0.086117      0.821780        0.507144   \n",
       "\n",
       "      avg_glucose_level        bmi  has_smoked    stroke  \n",
       "male                                                      \n",
       "0            105.390499  30.254024    0.204351  0.018757  \n",
       "1            110.643314  30.675198    0.255455  0.022688  "
      ]
     },
     "execution_count": 15,
     "metadata": {},
     "output_type": "execute_result"
    }
   ],
   "source": [
    "#create groupby object by gender\n",
    "male=df.groupby('male').mean()\n",
    "male"
   ]
  },
  {
   "cell_type": "code",
   "execution_count": 16,
   "metadata": {
    "scrolled": true
   },
   "outputs": [
    {
     "data": {
      "image/png": "[encoded data removed]",
      "text/plain": [
       "<Figure size 432x288 with 3 Axes>"
      ]
     },
     "metadata": {
      "needs_background": "light"
     },
     "output_type": "display_data"
    }
   ],
   "source": [
    "#Create subplots\n",
    "f, axes = plt.subplots(3, 1)\n",
    "#bar graph of percentage of stroke victims by gender\n",
    "sns.barplot(x=male.index, y=male.stroke, ax=axes[0] )\n",
    "#bar graph of percentage of hypertension by gender\n",
    "sns.barplot(x=male.index, y=male.hypertension, ax=axes[1])\n",
    "#bar graph of percentage of heart disease by gender\n",
    "sns.barplot(x=male.index, y=male.heart_disease, ax = axes[2])\n",
    "#changes xticks to male and female rather than 0 and 1\n",
    "for ax in axes:\n",
    "    plt.sca(ax)\n",
    "    plt.xticks(np.arange(2),['Female', 'Male'])\n",
    "    ax.set(xlabel='Gender')\n",
    "f.tight_layout()\n",
    "plt.show()"
   ]
  },
  {
   "cell_type": "markdown",
   "metadata": {},
   "source": [
    "It appears males are at a higher risk of hypertension and stroke and a significantly higer risk of heart disease."
   ]
  },
  {
   "cell_type": "code",
   "execution_count": 19,
   "metadata": {
    "scrolled": true
   },
   "outputs": [
    {
     "data": {
      "text/html": [
       "<div>\n",
       "<style scoped>\n",
       "    .dataframe tbody tr th:only-of-type {\n",
       "        vertical-align: middle;\n",
       "    }\n",
       "\n",
       "    .dataframe tbody tr th {\n",
       "        vertical-align: top;\n",
       "    }\n",
       "\n",
       "    .dataframe thead th {\n",
       "        text-align: right;\n",
       "    }\n",
       "</style>\n",
       "<table border=\"1\" class=\"dataframe\">\n",
       "  <thead>\n",
       "    <tr style=\"text-align: right;\">\n",
       "      <th></th>\n",
       "      <th>male</th>\n",
       "      <th>age</th>\n",
       "      <th>hypertension</th>\n",
       "      <th>heart_disease</th>\n",
       "      <th>ever_married</th>\n",
       "      <th>urban_resident</th>\n",
       "      <th>avg_glucose_level</th>\n",
       "      <th>bmi</th>\n",
       "      <th>stroke</th>\n",
       "    </tr>\n",
       "    <tr>\n",
       "      <th>has_smoked</th>\n",
       "      <th></th>\n",
       "      <th></th>\n",
       "      <th></th>\n",
       "      <th></th>\n",
       "      <th></th>\n",
       "      <th></th>\n",
       "      <th></th>\n",
       "      <th></th>\n",
       "      <th></th>\n",
       "    </tr>\n",
       "  </thead>\n",
       "  <tbody>\n",
       "    <tr>\n",
       "      <th>0</th>\n",
       "      <td>0.367431</td>\n",
       "      <td>50.994426</td>\n",
       "      <td>0.123207</td>\n",
       "      <td>0.054028</td>\n",
       "      <td>0.807137</td>\n",
       "      <td>0.500024</td>\n",
       "      <td>107.664703</td>\n",
       "      <td>30.515389</td>\n",
       "      <td>0.020773</td>\n",
       "    </tr>\n",
       "    <tr>\n",
       "      <th>1</th>\n",
       "      <td>0.436922</td>\n",
       "      <td>46.880945</td>\n",
       "      <td>0.107332</td>\n",
       "      <td>0.063078</td>\n",
       "      <td>0.780218</td>\n",
       "      <td>0.513540</td>\n",
       "      <td>106.492774</td>\n",
       "      <td>30.068544</td>\n",
       "      <td>0.018494</td>\n",
       "    </tr>\n",
       "  </tbody>\n",
       "</table>\n",
       "</div>"
      ],
      "text/plain": [
       "                male        age  hypertension  heart_disease  ever_married  \\\n",
       "has_smoked                                                                   \n",
       "0           0.367431  50.994426      0.123207       0.054028      0.807137   \n",
       "1           0.436922  46.880945      0.107332       0.063078      0.780218   \n",
       "\n",
       "            urban_resident  avg_glucose_level        bmi    stroke  \n",
       "has_smoked                                                          \n",
       "0                 0.500024         107.664703  30.515389  0.020773  \n",
       "1                 0.513540         106.492774  30.068544  0.018494  "
      ]
     },
     "execution_count": 19,
     "metadata": {},
     "output_type": "execute_result"
    }
   ],
   "source": [
    "#create a groupby object grouped by wheather or not the subject has smoked\n",
    "smokegr=df.groupby('has_smoked').mean()\n",
    "smokegr"
   ]
  },
  {
   "cell_type": "code",
   "execution_count": 20,
   "metadata": {},
   "outputs": [
    {
     "data": {
      "image/png": "[encoded data removed]",
      "text/plain": [
       "<Figure size 432x288 with 3 Axes>"
      ]
     },
     "metadata": {
      "needs_background": "light"
     },
     "output_type": "display_data"
    }
   ],
   "source": [
    "#create subplots\n",
    "f, axes = plt.subplots(3, 1)\n",
    "#Bar graph between rate of stroke and whether subject was a smoker\n",
    "sns.barplot(x=smokegr.index, y=smokegr.stroke, ax=axes[0])\n",
    "#Bar graph between rate of hypertension and whether subject was a smoker\n",
    "sns.barplot(x=smokegr.index, y=smokegr.hypertension, ax=axes[1])\n",
    "#Bar graph between rate of heart disease and whether subject was a smoker\n",
    "sns.barplot(x=smokegr.index, y=smokegr.heart_disease, ax=axes[2])\n",
    "#change xticks\n",
    "for ax in axes:\n",
    "    plt.sca(ax)\n",
    "    plt.xticks(np.arange(2),['No', 'Yes'])\n",
    "    ax.set(xlabel='Current or Former Smoker')\n",
    "f.tight_layout()"
   ]
  },
  {
   "cell_type": "markdown",
   "metadata": {},
   "source": [
    "We would expect smoking to increase the likelihood of stroke but the data does not bear that out here. One reason could be that smokers in the study were reletively younger. This is a good place to dive into inferential stats to see if the difference in means between smokers and non smokers a random occurrence. While it may seem obvious that smoking would increase your likelihood of stroke the data does not bear this out at first glance. With this in mind our null hypothesis will be that smoking has no affect on a person's likelihood to have a stroke."
   ]
  },
  {
   "cell_type": "code",
   "execution_count": 21,
   "metadata": {},
   "outputs": [],
   "source": [
    "\n",
    "def permutation_sample(data1, data2):\n",
    "    '''Create a permuted smaple to test hypotheses'''\n",
    "    data=np.concatenate((data1,data2))\n",
    "    permuted_data= np.random.permutation(data)\n",
    "    perm_data1=permuted_data[:len(data1)]\n",
    "    perm_data2=permuted_data[len(data1):]\n",
    "    return perm_data1, perm_data2\n",
    "\n",
    "def permutation_replicate(data1, data2, func, size=1):\n",
    "    '''Get replicates from permuted sample'''\n",
    "    replicate=np.empty(size)\n",
    "    for i in range(size):\n",
    "        sam1, sam2= permutation_sample(data1, data2)\n",
    "        replicate[i]= func(sam1, sam2)\n",
    "    return replicate\n",
    "\n",
    "\n",
    "def mean_diff(data1, data2):\n",
    "    '''obtain the mean difference between 2 samples'''\n",
    "    diff= np.mean(data1)-np.mean(data2)\n",
    "    return diff\n",
    "        \n",
    "    \n",
    "def mean_ratio(data1,data2):\n",
    "    '''obtain the mean ratio between 2 samples'''\n",
    "    ratio=np.mean(data1)/np.mean(data2)\n",
    "    return ratio"
   ]
  },
  {
   "cell_type": "code",
   "execution_count": 22,
   "metadata": {},
   "outputs": [],
   "source": [
    "#h0 will be that smoking has no affect on stroke\n",
    "\n",
    "#seperate into smokers and non-smokers\n",
    "smoker_str=np.array(df.stroke[df.has_smoked==1])\n",
    "nonsmoker_str=np.array(df.stroke[df.has_smoked==0])\n",
    "#get observed quantities\n",
    "smo_obsv_rat=mean_ratio( smoker_str, nonsmoker_str)\n",
    "smo_obsv_diff= nonsmoker_str.mean()-smoker_str.mean()\n"
   ]
  },
  {
   "cell_type": "code",
   "execution_count": 23,
   "metadata": {},
   "outputs": [],
   "source": [
    "#create permuted samples\n",
    "smoker_mean_perm_reps=permutation_replicate(smoker_str, nonsmoker_str, mean_diff, size= 10000)\n",
    "smoker_ratio_perm_reps=permutation_replicate(smoker_str, nonsmoker_str, mean_ratio, size= 10000)"
   ]
  },
  {
   "cell_type": "code",
   "execution_count": 24,
   "metadata": {},
   "outputs": [
    {
     "data": {
      "text/plain": [
       "<matplotlib.lines.Line2D at 0x1a155f5890>"
      ]
     },
     "execution_count": 24,
     "metadata": {},
     "output_type": "execute_result"
    },
    {
     "data": {
      "image/png": "[encoded data removed]",
      "text/plain": [
       "<Figure size 432x288 with 1 Axes>"
      ]
     },
     "metadata": {
      "needs_background": "light"
     },
     "output_type": "display_data"
    }
   ],
   "source": [
    "#create histogram\n",
    "plt.hist(smoker_ratio_perm_reps, bins= 12)\n",
    "plt.ylabel('Count')\n",
    "plt.xlabel('Smoker Ratio')\n",
    "plt.title('Mean Ratio Permutation sample with Observed Ratio')\n",
    "#show where observed ratio falls in the distribution\n",
    "plt.axvline(smo_obsv_rat, color='k', linestyle='dashed', linewidth=2)"
   ]
  },
  {
   "cell_type": "code",
   "execution_count": 25,
   "metadata": {},
   "outputs": [
    {
     "name": "stdout",
     "output_type": "stream",
     "text": [
      "Assuming no difference between the affects of smoking on having a stroke the p_value is 0.8615. While this p_value is somewhat low, it is not low enoguh to reject the null\n",
      "Additionally the 95% confidence interval is between 0.81181346472 and 1.21218300785\n"
     ]
    }
   ],
   "source": [
    "#Find p-value and 95% CI and print\n",
    "p=((smoker_ratio_perm_reps>smo_obsv_rat).sum())/float(len(smoker_ratio_perm_reps))\n",
    "ci =np.percentile(smoker_ratio_perm_reps,(2.5,97.5))\n",
    "print('Assuming no difference between the affects of smoking on having a stroke the p_value is {}. While this p_value is somewhat low, it is not low enoguh to reject the null').format(p)\n",
    "print('Additionally the 95% confidence interval is between {} and {}').format(ci[0], ci[1])"
   ]
  },
  {
   "cell_type": "code",
   "execution_count": 26,
   "metadata": {
    "scrolled": true
   },
   "outputs": [
    {
     "data": {
      "text/plain": [
       "<matplotlib.lines.Line2D at 0x1a15b72e90>"
      ]
     },
     "execution_count": 26,
     "metadata": {},
     "output_type": "execute_result"
    },
    {
     "data": {
      "image/png": "[encoded data removed]",
      "text/plain": [
       "<Figure size 432x288 with 1 Axes>"
      ]
     },
     "metadata": {
      "needs_background": "light"
     },
     "output_type": "display_data"
    }
   ],
   "source": [
    "#create histogram\n",
    "plt.hist(smoker_mean_perm_reps, bins= 12)\n",
    "plt.ylabel('Count')\n",
    "plt.xlabel('Smoker Mean Diff')\n",
    "plt.title('Mean Diff Permutation sample with Observed Mean')\n",
    "#show where observed mean diff falls in the distribution\n",
    "plt.axvline(smo_obsv_diff, color='k', linestyle='dashed', linewidth=2)"
   ]
  },
  {
   "cell_type": "code",
   "execution_count": 27,
   "metadata": {},
   "outputs": [
    {
     "name": "stdout",
     "output_type": "stream",
     "text": [
      "Assuming no difference between the affects of smoking on having a stroke the p_value is 0.1295.\n",
      "Additionally the 95% confidence interval is between -0.00398088625778 and 0.00410435471861\n"
     ]
    }
   ],
   "source": [
    "#Find p-value and 95% CI and print\n",
    "p=((smoker_mean_perm_reps>smo_obsv_diff).sum())/float(len(smoker_mean_perm_reps))\n",
    "ci =np.percentile(smoker_mean_perm_reps,(2.5,97.5))\n",
    "print('Assuming no difference between the affects of smoking on having a stroke the p_value is {}.').format(p)\n",
    "print('Additionally the 95% confidence interval is between {} and {}').format(ci[0], ci[1])"
   ]
  },
  {
   "cell_type": "markdown",
   "metadata": {},
   "source": [
    "According to this permutation sampling there is no increased risk of stroke do to smoking. Any cursory research would show otherwise so I believe this has to be do to how the smoking record was kept. As perviously mentioned, the average smoker in this dataset is four years younger than the non smokers so that may counteract the negative affect of smoking. This could be do to people not being completely forthcoming with their smoking history. Additionally, my wrangling of the data may have caused have overestimated the amount of people whose health was adversly effected by smoking. We may need to drop this variable for future analysis."
   ]
  },
  {
   "cell_type": "code",
   "execution_count": 28,
   "metadata": {},
   "outputs": [],
   "source": [
    "#h0 will be that urban vs rural residence has no affect on stroke\n",
    "\n",
    "#seperate into urban and rural\n",
    "urban_str=np.array(df.stroke[df.urban_resident==1])\n",
    "rural_str=np.array(df.stroke[df.urban_resident==0])\n",
    "#get observed quantities\n",
    "urb_obsv_rat=mean_ratio(urban_str, rural_str)\n",
    "urb_obsv_diff= urban_str.mean()-rural_str.mean()"
   ]
  },
  {
   "cell_type": "code",
   "execution_count": 29,
   "metadata": {},
   "outputs": [],
   "source": [
    "#create permuted samples\n",
    "urb_mean_perm_reps=permutation_replicate(urban_str, rural_str, mean_diff, size= 10000)\n",
    "urb_ratio_perm_reps=permutation_replicate(urban_str, rural_str, mean_ratio, size= 10000)"
   ]
  },
  {
   "cell_type": "code",
   "execution_count": 30,
   "metadata": {},
   "outputs": [
    {
     "data": {
      "text/plain": [
       "<matplotlib.lines.Line2D at 0x1a14fcbfd0>"
      ]
     },
     "execution_count": 30,
     "metadata": {},
     "output_type": "execute_result"
    },
    {
     "data": {
      "image/png": "[encoded data removed]",
      "text/plain": [
       "<Figure size 432x288 with 1 Axes>"
      ]
     },
     "metadata": {
      "needs_background": "light"
     },
     "output_type": "display_data"
    }
   ],
   "source": [
    "#create histogram\n",
    "plt.hist(urb_ratio_perm_reps, bins= 12)\n",
    "plt.ylabel('Count')\n",
    "plt.xlabel('Smoker Ratio')\n",
    "plt.title('Mean Ratio Permutation sample with Observed Ratio')\n",
    "#show where observed ratio falls in the distribution\n",
    "plt.axvline(urb_obsv_rat, color='k', linestyle='dashed', linewidth=2)"
   ]
  },
  {
   "cell_type": "code",
   "execution_count": 31,
   "metadata": {},
   "outputs": [
    {
     "name": "stdout",
     "output_type": "stream",
     "text": [
      "Assuming no difference between the affects of smoking on having a stroke the p_value is 0.3752.\n",
      "Additionally the 95% confidence interval is between 0.847225907723 and 1.17754355017\n"
     ]
    }
   ],
   "source": [
    "#Find p-value and 95% CI and print\n",
    "p=((urb_ratio_perm_reps>urb_obsv_rat).sum())/float(len(urb_ratio_perm_reps))\n",
    "ci =np.percentile(urb_ratio_perm_reps,(2.5,97.5))\n",
    "print('Assuming no difference between the affects of smoking on having a stroke the p_value is {}.').format(p)\n",
    "print('Additionally the 95% confidence interval is between {} and {}').format(ci[0], ci[1])"
   ]
  },
  {
   "cell_type": "code",
   "execution_count": 32,
   "metadata": {},
   "outputs": [
    {
     "data": {
      "text/plain": [
       "<matplotlib.lines.Line2D at 0x1a14fd86d0>"
      ]
     },
     "execution_count": 32,
     "metadata": {},
     "output_type": "execute_result"
    },
    {
     "data": {
      "image/png": "[encoded data removed]",
      "text/plain": [
       "<Figure size 432x288 with 1 Axes>"
      ]
     },
     "metadata": {
      "needs_background": "light"
     },
     "output_type": "display_data"
    }
   ],
   "source": [
    "#create histogram\n",
    "plt.hist(urb_mean_perm_reps, bins= 12)\n",
    "plt.ylabel('Count')\n",
    "plt.xlabel('Smoker Ratio')\n",
    "plt.title('Mean Ratio Permutation sample with Observed Ratio')\n",
    "#show where observed ratio falls in the distribution\n",
    "plt.axvline(urb_obsv_diff, color='k', linestyle='dashed', linewidth=2)"
   ]
  },
  {
   "cell_type": "code",
   "execution_count": 33,
   "metadata": {
    "scrolled": true
   },
   "outputs": [
    {
     "name": "stdout",
     "output_type": "stream",
     "text": [
      "Assuming no difference between the affects of smoking on having a stroke the p_value is 0.3732.\n",
      "Additionally the 95% confidence interval is between -0.00335330038851 and 0.00345042854518\n"
     ]
    }
   ],
   "source": [
    "#Find p-value and 95% CI and print\n",
    "p=((urb_mean_perm_reps>urb_obsv_diff).sum())/float(len(urb_mean_perm_reps))\n",
    "ci =np.percentile(urb_mean_perm_reps,(2.5,97.5))\n",
    "print('Assuming no difference between the affects of smoking on having a stroke the p_value is {}.').format(p)\n",
    "print('Additionally the 95% confidence interval is between {} and {}').format(ci[0], ci[1])"
   ]
  },
  {
   "cell_type": "markdown",
   "metadata": {},
   "source": [
    "Here both p values show we should accept the null. Urban vs rural residency does not affect ones likelihood of stroke."
   ]
  },
  {
   "cell_type": "code",
   "execution_count": 34,
   "metadata": {},
   "outputs": [],
   "source": [
    "#h0 will be that marriage has no affect on stroke\n",
    "#seperate those who are married and single \n",
    "married_str=np.array(df.stroke[df.ever_married==1])\n",
    "single_str=np.array(df.stroke[df.ever_married==0])\n",
    "mar_obsv_rat=mean_ratio(married_str, single_str)\n",
    "mar_obsv_diff= married_str.mean()-single_str.mean()\n"
   ]
  },
  {
   "cell_type": "code",
   "execution_count": 35,
   "metadata": {},
   "outputs": [],
   "source": [
    "#create permuted samples\n",
    "mar_mean_perm_reps=permutation_replicate(married_str, single_str, mean_diff, size= 10000)\n",
    "mar_ratio_perm_reps=permutation_replicate(married_str, single_str, mean_ratio, size= 10000)"
   ]
  },
  {
   "cell_type": "code",
   "execution_count": 36,
   "metadata": {},
   "outputs": [
    {
     "data": {
      "text/plain": [
       "<matplotlib.lines.Line2D at 0x1a15ef1190>"
      ]
     },
     "execution_count": 36,
     "metadata": {},
     "output_type": "execute_result"
    },
    {
     "data": {
      "image/png": "[encoded data removed]",
      "text/plain": [
       "<Figure size 432x288 with 1 Axes>"
      ]
     },
     "metadata": {
      "needs_background": "light"
     },
     "output_type": "display_data"
    }
   ],
   "source": [
    "#create histogram\n",
    "plt.hist(mar_mean_perm_reps, bins= 12)\n",
    "plt.ylabel('Count')\n",
    "plt.xlabel('Marriage Mean Diff')\n",
    "plt.title('Mean Diff Permutation sample with Observed Mean')\n",
    "#show where observed mean diff falls in the distribution\n",
    "plt.axvline(mar_obsv_diff, color='k', linestyle='dashed', linewidth=2)"
   ]
  },
  {
   "cell_type": "code",
   "execution_count": 37,
   "metadata": {},
   "outputs": [
    {
     "name": "stdout",
     "output_type": "stream",
     "text": [
      "Assuming no difference between the affects of gender on having a stroke the p_value is 0.0. This p value means we should reject the null\n",
      "Additionally the 95% confidence interval is between -0.00441103280247 and 0.00394325059416\n"
     ]
    }
   ],
   "source": [
    "#Find p-value and 95% CI and print\n",
    "p=((mar_mean_perm_reps>mar_obsv_diff).sum())/float(len(mar_mean_perm_reps))\n",
    "ci =np.percentile(mar_mean_perm_reps,(2.5,97.5))\n",
    "print('Assuming no difference between the affects of gender on having a stroke the p_value is {}. This p value means we should reject the null').format(p)\n",
    "print('Additionally the 95% confidence interval is between {} and {}').format(ci[0], ci[1])"
   ]
  },
  {
   "cell_type": "code",
   "execution_count": 38,
   "metadata": {},
   "outputs": [
    {
     "data": {
      "text/plain": [
       "<matplotlib.lines.Line2D at 0x1a16c17dd0>"
      ]
     },
     "execution_count": 38,
     "metadata": {},
     "output_type": "execute_result"
    },
    {
     "data": {
      "image/png": "[encoded data removed]",
      "text/plain": [
       "<Figure size 432x288 with 1 Axes>"
      ]
     },
     "metadata": {
      "needs_background": "light"
     },
     "output_type": "display_data"
    }
   ],
   "source": [
    "#create histogram\n",
    "plt.hist(mar_ratio_perm_reps, bins= 12)\n",
    "plt.ylabel('Count')\n",
    "plt.xlabel('Marriage Ratio')\n",
    "plt.title('Mean Ratio Permutation sample with Observed Ratio')\n",
    "#show where observed ratio falls in the distribution\n",
    "plt.axvline(mar_obsv_rat, color='k', linestyle='dashed', linewidth=2)"
   ]
  },
  {
   "cell_type": "code",
   "execution_count": 39,
   "metadata": {},
   "outputs": [
    {
     "name": "stdout",
     "output_type": "stream",
     "text": [
      "Assuming no difference between the affects of gender on having a stroke the p_value is 0.0. This p value means we should reject the null\n",
      "Additionally the 95% confidence interval is between 0.823002549079 and 1.24680235301\n"
     ]
    }
   ],
   "source": [
    "#Find p-value and 95% CI and print\n",
    "p=((mar_ratio_perm_reps>mar_obsv_rat).sum())/float(len(mar_ratio_perm_reps))\n",
    "ci =np.percentile(mar_ratio_perm_reps,(2.5,97.5))\n",
    "print('Assuming no difference between the affects of gender on having a stroke the p_value is {}. This p value means we should reject the null').format(p)\n",
    "print('Additionally the 95% confidence interval is between {} and {}').format(ci[0], ci[1])"
   ]
  },
  {
   "cell_type": "code",
   "execution_count": 40,
   "metadata": {},
   "outputs": [
    {
     "data": {
      "text/html": [
       "<div>\n",
       "<style scoped>\n",
       "    .dataframe tbody tr th:only-of-type {\n",
       "        vertical-align: middle;\n",
       "    }\n",
       "\n",
       "    .dataframe tbody tr th {\n",
       "        vertical-align: top;\n",
       "    }\n",
       "\n",
       "    .dataframe thead th {\n",
       "        text-align: right;\n",
       "    }\n",
       "</style>\n",
       "<table border=\"1\" class=\"dataframe\">\n",
       "  <thead>\n",
       "    <tr style=\"text-align: right;\">\n",
       "      <th></th>\n",
       "      <th>male</th>\n",
       "      <th>age</th>\n",
       "      <th>hypertension</th>\n",
       "      <th>heart_disease</th>\n",
       "      <th>urban_resident</th>\n",
       "      <th>avg_glucose_level</th>\n",
       "      <th>bmi</th>\n",
       "      <th>has_smoked</th>\n",
       "      <th>stroke</th>\n",
       "    </tr>\n",
       "    <tr>\n",
       "      <th>ever_married</th>\n",
       "      <th></th>\n",
       "      <th></th>\n",
       "      <th></th>\n",
       "      <th></th>\n",
       "      <th></th>\n",
       "      <th></th>\n",
       "      <th></th>\n",
       "      <th></th>\n",
       "      <th></th>\n",
       "    </tr>\n",
       "  </thead>\n",
       "  <tbody>\n",
       "    <tr>\n",
       "      <th>0</th>\n",
       "      <td>0.343186</td>\n",
       "      <td>35.498420</td>\n",
       "      <td>0.055215</td>\n",
       "      <td>0.021751</td>\n",
       "      <td>0.501394</td>\n",
       "      <td>98.876431</td>\n",
       "      <td>29.432348</td>\n",
       "      <td>0.247444</td>\n",
       "      <td>0.010597</td>\n",
       "    </tr>\n",
       "    <tr>\n",
       "      <th>1</th>\n",
       "      <td>0.392874</td>\n",
       "      <td>53.691821</td>\n",
       "      <td>0.135650</td>\n",
       "      <td>0.064571</td>\n",
       "      <td>0.503462</td>\n",
       "      <td>109.518987</td>\n",
       "      <td>30.659374</td>\n",
       "      <td>0.218084</td>\n",
       "      <td>0.022662</td>\n",
       "    </tr>\n",
       "  </tbody>\n",
       "</table>\n",
       "</div>"
      ],
      "text/plain": [
       "                  male        age  hypertension  heart_disease  \\\n",
       "ever_married                                                     \n",
       "0             0.343186  35.498420      0.055215       0.021751   \n",
       "1             0.392874  53.691821      0.135650       0.064571   \n",
       "\n",
       "              urban_resident  avg_glucose_level        bmi  has_smoked  \\\n",
       "ever_married                                                             \n",
       "0                   0.501394          98.876431  29.432348    0.247444   \n",
       "1                   0.503462         109.518987  30.659374    0.218084   \n",
       "\n",
       "                stroke  \n",
       "ever_married            \n",
       "0             0.010597  \n",
       "1             0.022662  "
      ]
     },
     "execution_count": 40,
     "metadata": {},
     "output_type": "execute_result"
    }
   ],
   "source": [
    "df.groupby('ever_married').mean()"
   ]
  },
  {
   "cell_type": "markdown",
   "metadata": {},
   "source": [
    "This result very much surprised me. We did not even examine marriage in our EDA because I assumed it would not have a great affect on ones likelihood to have a stroke. As we can see thoug in the table above the maim reason marriage appears to increase your risk of stroke is that married people tend to be older"
   ]
  },
  {
   "cell_type": "code",
   "execution_count": 41,
   "metadata": {},
   "outputs": [],
   "source": [
    "#h0 will be that gender has no affect on stroke\n",
    "#seperate those who do and do not have heart disease \n",
    "male_str=np.array(df.stroke[df.male==1])\n",
    "female_str=np.array(df.stroke[df.male==0])\n",
    "gen_obsv_rat=mean_ratio(male_str, female_str)\n",
    "gen_obsv_diff= male_str.mean()-female_str.mean()\n"
   ]
  },
  {
   "cell_type": "code",
   "execution_count": 42,
   "metadata": {},
   "outputs": [],
   "source": [
    "#create permuted samples\n",
    "gender_mean_perm_reps=permutation_replicate(male_str, female_str, mean_diff, size= 10000)\n",
    "gender_ratio_perm_reps=permutation_replicate(male_str, female_str, mean_ratio, size= 10000)"
   ]
  },
  {
   "cell_type": "code",
   "execution_count": 43,
   "metadata": {},
   "outputs": [
    {
     "data": {
      "text/plain": [
       "<matplotlib.lines.Line2D at 0x1a16c17810>"
      ]
     },
     "execution_count": 43,
     "metadata": {},
     "output_type": "execute_result"
    },
    {
     "data": {
      "image/png": "[encoded data removed]",
      "text/plain": [
       "<Figure size 432x288 with 1 Axes>"
      ]
     },
     "metadata": {
      "needs_background": "light"
     },
     "output_type": "display_data"
    }
   ],
   "source": [
    "#create histogram\n",
    "plt.hist(gender_mean_perm_reps, bins= 12)\n",
    "plt.ylabel('Count')\n",
    "plt.xlabel('Gender Mean Diff')\n",
    "plt.title('Mean Diff Permutation sample with Observed Mean')\n",
    "#show where observed mean diff falls in the distribution\n",
    "plt.axvline(gen_obsv_diff, color='k', linestyle='dashed', linewidth=2)"
   ]
  },
  {
   "cell_type": "code",
   "execution_count": 44,
   "metadata": {},
   "outputs": [
    {
     "name": "stdout",
     "output_type": "stream",
     "text": [
      "Assuming no difference between the affects of gender on having a stroke the p_value is 0.0118. This p value means we should reject the null\n",
      "Additionally the 95% confidence interval is between -0.00342345805968 and 0.00346124937462\n"
     ]
    }
   ],
   "source": [
    "#Find p-value and 95% CI and print\n",
    "p=((gender_mean_perm_reps>gen_obsv_diff).sum())/float(len(gender_mean_perm_reps))\n",
    "ci =np.percentile(gender_mean_perm_reps,(2.5,97.5))\n",
    "print('Assuming no difference between the affects of gender on having a stroke the p_value is {}. This p value means we should reject the null').format(p)\n",
    "print('Additionally the 95% confidence interval is between {} and {}').format(ci[0], ci[1])"
   ]
  },
  {
   "cell_type": "code",
   "execution_count": 45,
   "metadata": {},
   "outputs": [
    {
     "data": {
      "text/plain": [
       "<matplotlib.lines.Line2D at 0x1a16e34e50>"
      ]
     },
     "execution_count": 45,
     "metadata": {},
     "output_type": "execute_result"
    },
    {
     "data": {
      "image/png": "[encoded data removed]",
      "text/plain": [
       "<Figure size 432x288 with 1 Axes>"
      ]
     },
     "metadata": {
      "needs_background": "light"
     },
     "output_type": "display_data"
    }
   ],
   "source": [
    "#create histogram\n",
    "plt.hist(gender_ratio_perm_reps, bins= 12)\n",
    "plt.ylabel('Count')\n",
    "plt.xlabel('Gender Ratio')\n",
    "plt.title('Mean Ratio Permutation sample with Observed Ratio')\n",
    "#show where observed ratio falls in the distribution\n",
    "plt.axvline(gen_obsv_rat, color='k', linestyle='dashed', linewidth=2)"
   ]
  },
  {
   "cell_type": "code",
   "execution_count": 46,
   "metadata": {},
   "outputs": [
    {
     "name": "stdout",
     "output_type": "stream",
     "text": [
      "Assuming no difference between the affects of gender on having a stroke the p_value is 0.0104. This p value means we should reject the null\n",
      "Additionally the 95% confidence interval is between 0.841313209328 and 1.18277806429\n"
     ]
    }
   ],
   "source": [
    "#Find p-value and 95% CI and print\n",
    "p=((gender_ratio_perm_reps>gen_obsv_rat).sum())/float(len(gender_ratio_perm_reps))\n",
    "ci =np.percentile(gender_ratio_perm_reps,(2.5,97.5))\n",
    "print('Assuming no difference between the affects of gender on having a stroke the p_value is {}. This p value means we should reject the null').format(p)\n",
    "print('Additionally the 95% confidence interval is between {} and {}').format(ci[0], ci[1])"
   ]
  },
  {
   "cell_type": "markdown",
   "metadata": {},
   "source": [
    "Both graphs show we should reject the null that gender has no affect on risk of stroke. It is clear that males are at a higher risk of stroke"
   ]
  },
  {
   "cell_type": "code",
   "execution_count": 47,
   "metadata": {},
   "outputs": [],
   "source": [
    "#h0 will be that heart disease has no affect on stroke\n",
    "#seperate those who do and do not have heart disease \n",
    "hd_str=np.array(df.stroke[df.heart_disease==1])\n",
    "nohd_str=np.array(df.stroke[df.heart_disease==0])\n",
    "hd_obsv_rat=mean_ratio(hd_str, nohd_str)\n",
    "hd_obsv_diff= hd_str.mean()-nohd_str.mean()\n"
   ]
  },
  {
   "cell_type": "code",
   "execution_count": 48,
   "metadata": {},
   "outputs": [],
   "source": [
    "#get permuted samples of each\n",
    "hd_mean_perm_reps=permutation_replicate(hd_str, nohd_str, mean_diff, size= 10000)\n",
    "hd_ratio_perm_reps=permutation_replicate(hd_str, nohd_str, mean_ratio, size= 10000)"
   ]
  },
  {
   "cell_type": "code",
   "execution_count": 49,
   "metadata": {},
   "outputs": [
    {
     "data": {
      "text/plain": [
       "<matplotlib.lines.Line2D at 0x1a15647cd0>"
      ]
     },
     "execution_count": 49,
     "metadata": {},
     "output_type": "execute_result"
    },
    {
     "data": {
      "image/png": "[encoded data removed]",
      "text/plain": [
       "<Figure size 432x288 with 1 Axes>"
      ]
     },
     "metadata": {
      "needs_background": "light"
     },
     "output_type": "display_data"
    }
   ],
   "source": [
    "#create histogram\n",
    "plt.hist(hd_ratio_perm_reps, bins= 12)\n",
    "plt.ylabel('Count')\n",
    "plt.xlabel('Heart Disease Ratio')\n",
    "plt.title('Permutation sample with Observed Ratio')\n",
    "#show observed mean ratio\n",
    "plt.axvline(hd_obsv_rat, color='k', linestyle='dashed', linewidth=2)"
   ]
  },
  {
   "cell_type": "code",
   "execution_count": 50,
   "metadata": {},
   "outputs": [
    {
     "name": "stdout",
     "output_type": "stream",
     "text": [
      "Assuming heart disease has no effect on the likelihood of stroke the p value is 0.0. This low value shows we must reject the null.\n"
     ]
    }
   ],
   "source": [
    "#display p-value\n",
    "p=((hd_ratio_perm_reps>hd_obsv_rat).sum())/float(len(smoker_ratio_perm_reps))\n",
    "print('Assuming heart disease has no effect on the likelihood of stroke the p value is {}. This low value shows we must reject the null.').format(p)"
   ]
  },
  {
   "cell_type": "code",
   "execution_count": 51,
   "metadata": {},
   "outputs": [
    {
     "data": {
      "text/plain": [
       "<matplotlib.lines.Line2D at 0x1a160943d0>"
      ]
     },
     "execution_count": 51,
     "metadata": {},
     "output_type": "execute_result"
    },
    {
     "data": {
      "image/png": "[encoded data removed]",
      "text/plain": [
       "<Figure size 432x288 with 1 Axes>"
      ]
     },
     "metadata": {
      "needs_background": "light"
     },
     "output_type": "display_data"
    }
   ],
   "source": [
    "#create histogram\n",
    "plt.hist(hd_mean_perm_reps, bins= 12)\n",
    "plt.ylabel('Count')\n",
    "plt.xlabel('Heart Disease Mean Diff')\n",
    "plt.title('Mean Diff Permutation sample with Observed Mean diff')\n",
    "#show observed mean difference\n",
    "plt.axvline(hd_obsv_diff, color='k', linestyle='dashed', linewidth=2)"
   ]
  },
  {
   "cell_type": "code",
   "execution_count": 52,
   "metadata": {},
   "outputs": [
    {
     "name": "stdout",
     "output_type": "stream",
     "text": [
      "Assuming heart disease has no effect on the likelihood of stroke the p value is 0.0.\n"
     ]
    }
   ],
   "source": [
    "#display p\n",
    "p=((hd_mean_perm_reps>hd_obsv_rat).sum())/float(len(hd_mean_perm_reps))\n",
    "print('Assuming heart disease has no effect on the likelihood of stroke the p value is {}.').format(p)"
   ]
  },
  {
   "cell_type": "code",
   "execution_count": 53,
   "metadata": {},
   "outputs": [],
   "source": [
    "#h0 will be that hypertension has no affect on stroke\n",
    "#seperate those who have hypertension from those who don't\n",
    "hype_str=np.array(df.stroke[df.hypertension==1])\n",
    "nohype_str=np.array(df.stroke[df.hypertension==0])\n",
    "\n",
    "hyp_obsv_rat=mean_ratio(hype_str, nohype_str)\n",
    "hyp_obsv_diff= hype_str.mean()-nohype_str.mean()\n"
   ]
  },
  {
   "cell_type": "code",
   "execution_count": 54,
   "metadata": {},
   "outputs": [],
   "source": [
    "#create permutation samples\n",
    "hype_mean_perm_reps=permutation_replicate(hype_str, nohype_str, mean_diff, size= 10000)\n",
    "hype_ratio_perm_reps=permutation_replicate(hype_str, nohype_str, mean_ratio, size= 10000)"
   ]
  },
  {
   "cell_type": "code",
   "execution_count": 55,
   "metadata": {
    "scrolled": true
   },
   "outputs": [
    {
     "data": {
      "text/plain": [
       "<matplotlib.lines.Line2D at 0x1a15ea2690>"
      ]
     },
     "execution_count": 55,
     "metadata": {},
     "output_type": "execute_result"
    },
    {
     "data": {
      "image/png": "[encoded data removed]",
      "text/plain": [
       "<Figure size 432x288 with 1 Axes>"
      ]
     },
     "metadata": {
      "needs_background": "light"
     },
     "output_type": "display_data"
    }
   ],
   "source": [
    "#create histogram\n",
    "plt.hist(hype_ratio_perm_reps, bins= 12)\n",
    "plt.ylabel('Count')\n",
    "plt.xlabel('Hypertension Ration')\n",
    "plt.title('Ratio Permutation sample with Observed Ratio')\n",
    "#plot observed ratio\n",
    "plt.axvline(hyp_obsv_rat, color='k', linestyle='dashed', linewidth=2)"
   ]
  },
  {
   "cell_type": "code",
   "execution_count": 56,
   "metadata": {},
   "outputs": [
    {
     "name": "stdout",
     "output_type": "stream",
     "text": [
      "Assuming hypertension has no effect on the likelihood of stroke the p value is 0.0.\n"
     ]
    }
   ],
   "source": [
    "#display p-value\n",
    "p=((hype_ratio_perm_reps>hyp_obsv_rat).sum())/float(len(hype_ratio_perm_reps))\n",
    "print('Assuming hypertension has no effect on the likelihood of stroke the p value is {}.').format(p)"
   ]
  },
  {
   "cell_type": "code",
   "execution_count": 57,
   "metadata": {},
   "outputs": [
    {
     "data": {
      "text/plain": [
       "<matplotlib.lines.Line2D at 0x1a1643c2d0>"
      ]
     },
     "execution_count": 57,
     "metadata": {},
     "output_type": "execute_result"
    },
    {
     "data": {
      "image/png": "[encoded data removed]",
      "text/plain": [
       "<Figure size 432x288 with 1 Axes>"
      ]
     },
     "metadata": {
      "needs_background": "light"
     },
     "output_type": "display_data"
    }
   ],
   "source": [
    "#plot histogram\n",
    "plt.hist(hype_mean_perm_reps, bins= 12)\n",
    "plt.ylabel('Count')\n",
    "plt.xlabel('Hypertension Ration')\n",
    "plt.title('Permutation sample with Observed')\n",
    "#plot observed mean diff\n",
    "plt.axvline(hyp_obsv_diff, color='k', linestyle='dashed', linewidth=2)"
   ]
  },
  {
   "cell_type": "code",
   "execution_count": 58,
   "metadata": {},
   "outputs": [
    {
     "name": "stdout",
     "output_type": "stream",
     "text": [
      "Assuming hypertension has no effect on the likelihood of stroke the p value is 0.0.\n"
     ]
    }
   ],
   "source": [
    "#display p value\n",
    "p=((hype_ratio_perm_reps>hyp_obsv_rat).sum())/float(len(hype_ratio_perm_reps))\n",
    "print('Assuming hypertension has no effect on the likelihood of stroke the p value is {}.').format(p)"
   ]
  },
  {
   "cell_type": "markdown",
   "metadata": {},
   "source": [
    "The permutation sampling shows that the major affects that hypertension and heart disease had on the rate of stroke are clearly beyond random chance. This means that heart disease and hypertension will be very important factors for our predictive model."
   ]
  },
  {
   "cell_type": "code",
   "execution_count": null,
   "metadata": {},
   "outputs": [],
   "source": []
  },
  {
   "cell_type": "code",
   "execution_count": null,
   "metadata": {},
   "outputs": [],
   "source": []
  },
  {
   "cell_type": "code",
   "execution_count": null,
   "metadata": {},
   "outputs": [],
   "source": []
  }
 ],
 "metadata": {
  "kernelspec": {
   "display_name": "Python 2",
   "language": "python",
   "name": "python2"
  },
  "language_info": {
   "codemirror_mode": {
    "name": "ipython",
    "version": 2
   },
   "file_extension": ".py",
   "mimetype": "text/x-python",
   "name": "python",
   "nbconvert_exporter": "python",
   "pygments_lexer": "ipython2",
   "version": "2.7.15"
  }
 },
 "nbformat": 4,
 "nbformat_minor": 2
}
