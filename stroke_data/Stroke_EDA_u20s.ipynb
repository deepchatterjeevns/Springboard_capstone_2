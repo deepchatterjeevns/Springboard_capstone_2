{
 "cells": [
  {
   "cell_type": "code",
   "execution_count": 1,
   "metadata": {},
   "outputs": [],
   "source": [
    "#import necessary packages\n",
    "import pickle\n",
    "import pandas as pd\n",
    "import numpy as np\n",
    "import matplotlib.pyplot as plt\n",
    "import seaborn as sns \n",
    "\n",
    "def ecdf(data):\n",
    "    '''Function gives the x and y of a Cumulative distribution function'''\n",
    "    x= np.sort(np.array(data))\n",
    "    n=float(len(data))\n",
    "    y= (np.arange(1,n+1))/n\n",
    "    return x,y\n",
    "    "
   ]
  },
  {
   "cell_type": "code",
   "execution_count": 2,
   "metadata": {},
   "outputs": [
    {
     "data": {
      "text/html": [
       "<div>\n",
       "<style scoped>\n",
       "    .dataframe tbody tr th:only-of-type {\n",
       "        vertical-align: middle;\n",
       "    }\n",
       "\n",
       "    .dataframe tbody tr th {\n",
       "        vertical-align: top;\n",
       "    }\n",
       "\n",
       "    .dataframe thead th {\n",
       "        text-align: right;\n",
       "    }\n",
       "</style>\n",
       "<table border=\"1\" class=\"dataframe\">\n",
       "  <thead>\n",
       "    <tr style=\"text-align: right;\">\n",
       "      <th></th>\n",
       "      <th>male</th>\n",
       "      <th>age</th>\n",
       "      <th>hypertension</th>\n",
       "      <th>heart_disease</th>\n",
       "      <th>ever_married</th>\n",
       "      <th>work_type</th>\n",
       "      <th>urban_resident</th>\n",
       "      <th>avg_glucose_level</th>\n",
       "      <th>bmi</th>\n",
       "      <th>has_smoked</th>\n",
       "      <th>stroke</th>\n",
       "      <th>bmi_class</th>\n",
       "      <th>glucose_class</th>\n",
       "      <th>risk_factor</th>\n",
       "    </tr>\n",
       "    <tr>\n",
       "      <th>id</th>\n",
       "      <th></th>\n",
       "      <th></th>\n",
       "      <th></th>\n",
       "      <th></th>\n",
       "      <th></th>\n",
       "      <th></th>\n",
       "      <th></th>\n",
       "      <th></th>\n",
       "      <th></th>\n",
       "      <th></th>\n",
       "      <th></th>\n",
       "      <th></th>\n",
       "      <th></th>\n",
       "      <th></th>\n",
       "    </tr>\n",
       "  </thead>\n",
       "  <tbody>\n",
       "    <tr>\n",
       "      <th>30669</th>\n",
       "      <td>1</td>\n",
       "      <td>3.0</td>\n",
       "      <td>0</td>\n",
       "      <td>0</td>\n",
       "      <td>0</td>\n",
       "      <td>children</td>\n",
       "      <td>0</td>\n",
       "      <td>95.12</td>\n",
       "      <td>18.0</td>\n",
       "      <td>0</td>\n",
       "      <td>0</td>\n",
       "      <td>Underweight</td>\n",
       "      <td>41st-60th</td>\n",
       "      <td>NaN</td>\n",
       "    </tr>\n",
       "    <tr>\n",
       "      <th>30468</th>\n",
       "      <td>1</td>\n",
       "      <td>58.0</td>\n",
       "      <td>1</td>\n",
       "      <td>0</td>\n",
       "      <td>1</td>\n",
       "      <td>Private</td>\n",
       "      <td>1</td>\n",
       "      <td>87.96</td>\n",
       "      <td>39.2</td>\n",
       "      <td>0</td>\n",
       "      <td>0</td>\n",
       "      <td>Obese</td>\n",
       "      <td>41st-60th</td>\n",
       "      <td>One</td>\n",
       "    </tr>\n",
       "    <tr>\n",
       "      <th>16523</th>\n",
       "      <td>0</td>\n",
       "      <td>8.0</td>\n",
       "      <td>0</td>\n",
       "      <td>0</td>\n",
       "      <td>0</td>\n",
       "      <td>Private</td>\n",
       "      <td>1</td>\n",
       "      <td>110.89</td>\n",
       "      <td>17.6</td>\n",
       "      <td>0</td>\n",
       "      <td>0</td>\n",
       "      <td>Underweight</td>\n",
       "      <td>61st-80th</td>\n",
       "      <td>NaN</td>\n",
       "    </tr>\n",
       "    <tr>\n",
       "      <th>56543</th>\n",
       "      <td>0</td>\n",
       "      <td>70.0</td>\n",
       "      <td>0</td>\n",
       "      <td>0</td>\n",
       "      <td>1</td>\n",
       "      <td>Private</td>\n",
       "      <td>0</td>\n",
       "      <td>69.04</td>\n",
       "      <td>35.9</td>\n",
       "      <td>0</td>\n",
       "      <td>0</td>\n",
       "      <td>Obese</td>\n",
       "      <td>0-20th</td>\n",
       "      <td>Neither</td>\n",
       "    </tr>\n",
       "    <tr>\n",
       "      <th>46136</th>\n",
       "      <td>1</td>\n",
       "      <td>14.0</td>\n",
       "      <td>0</td>\n",
       "      <td>0</td>\n",
       "      <td>0</td>\n",
       "      <td>Never_worked</td>\n",
       "      <td>0</td>\n",
       "      <td>161.28</td>\n",
       "      <td>19.1</td>\n",
       "      <td>0</td>\n",
       "      <td>0</td>\n",
       "      <td>Normal</td>\n",
       "      <td>81st-100th</td>\n",
       "      <td>NaN</td>\n",
       "    </tr>\n",
       "  </tbody>\n",
       "</table>\n",
       "</div>"
      ],
      "text/plain": [
       "       male   age  hypertension  heart_disease  ever_married     work_type  \\\n",
       "id                                                                           \n",
       "30669     1   3.0             0              0             0      children   \n",
       "30468     1  58.0             1              0             1       Private   \n",
       "16523     0   8.0             0              0             0       Private   \n",
       "56543     0  70.0             0              0             1       Private   \n",
       "46136     1  14.0             0              0             0  Never_worked   \n",
       "\n",
       "       urban_resident  avg_glucose_level   bmi  has_smoked  stroke  \\\n",
       "id                                                                   \n",
       "30669               0              95.12  18.0           0       0   \n",
       "30468               1              87.96  39.2           0       0   \n",
       "16523               1             110.89  17.6           0       0   \n",
       "56543               0              69.04  35.9           0       0   \n",
       "46136               0             161.28  19.1           0       0   \n",
       "\n",
       "         bmi_class glucose_class risk_factor  \n",
       "id                                            \n",
       "30669  Underweight     41st-60th         NaN  \n",
       "30468        Obese     41st-60th         One  \n",
       "16523  Underweight     61st-80th         NaN  \n",
       "56543        Obese        0-20th     Neither  \n",
       "46136       Normal    81st-100th         NaN  "
      ]
     },
     "execution_count": 2,
     "metadata": {},
     "output_type": "execute_result"
    }
   ],
   "source": [
    "df= pd.read_pickle('working_data_with_u20.pkl')\n",
    "df.head()"
   ]
  },
  {
   "cell_type": "code",
   "execution_count": 3,
   "metadata": {},
   "outputs": [
    {
     "data": {
      "text/html": [
       "<div>\n",
       "<style scoped>\n",
       "    .dataframe tbody tr th:only-of-type {\n",
       "        vertical-align: middle;\n",
       "    }\n",
       "\n",
       "    .dataframe tbody tr th {\n",
       "        vertical-align: top;\n",
       "    }\n",
       "\n",
       "    .dataframe thead th {\n",
       "        text-align: right;\n",
       "    }\n",
       "</style>\n",
       "<table border=\"1\" class=\"dataframe\">\n",
       "  <thead>\n",
       "    <tr style=\"text-align: right;\">\n",
       "      <th></th>\n",
       "      <th>male</th>\n",
       "      <th>age</th>\n",
       "      <th>hypertension</th>\n",
       "      <th>heart_disease</th>\n",
       "      <th>ever_married</th>\n",
       "      <th>urban_resident</th>\n",
       "      <th>avg_glucose_level</th>\n",
       "      <th>bmi</th>\n",
       "      <th>has_smoked</th>\n",
       "      <th>stroke</th>\n",
       "    </tr>\n",
       "  </thead>\n",
       "  <tbody>\n",
       "    <tr>\n",
       "      <th>count</th>\n",
       "      <td>41938.000000</td>\n",
       "      <td>41938.00000</td>\n",
       "      <td>41938.000000</td>\n",
       "      <td>41938.000000</td>\n",
       "      <td>41938.000000</td>\n",
       "      <td>41938.000000</td>\n",
       "      <td>41938.000000</td>\n",
       "      <td>41938.000000</td>\n",
       "      <td>41938.000000</td>\n",
       "      <td>41938.000000</td>\n",
       "    </tr>\n",
       "    <tr>\n",
       "      <th>mean</th>\n",
       "      <td>0.405026</td>\n",
       "      <td>41.83929</td>\n",
       "      <td>0.087510</td>\n",
       "      <td>0.043111</td>\n",
       "      <td>0.638657</td>\n",
       "      <td>0.500835</td>\n",
       "      <td>103.632645</td>\n",
       "      <td>28.605038</td>\n",
       "      <td>0.148457</td>\n",
       "      <td>0.015332</td>\n",
       "    </tr>\n",
       "    <tr>\n",
       "      <th>std</th>\n",
       "      <td>0.490903</td>\n",
       "      <td>22.48366</td>\n",
       "      <td>0.282585</td>\n",
       "      <td>0.203110</td>\n",
       "      <td>0.480395</td>\n",
       "      <td>0.500005</td>\n",
       "      <td>42.229814</td>\n",
       "      <td>7.770020</td>\n",
       "      <td>0.355557</td>\n",
       "      <td>0.122872</td>\n",
       "    </tr>\n",
       "    <tr>\n",
       "      <th>min</th>\n",
       "      <td>0.000000</td>\n",
       "      <td>0.08000</td>\n",
       "      <td>0.000000</td>\n",
       "      <td>0.000000</td>\n",
       "      <td>0.000000</td>\n",
       "      <td>0.000000</td>\n",
       "      <td>55.000000</td>\n",
       "      <td>10.100000</td>\n",
       "      <td>0.000000</td>\n",
       "      <td>0.000000</td>\n",
       "    </tr>\n",
       "    <tr>\n",
       "      <th>25%</th>\n",
       "      <td>0.000000</td>\n",
       "      <td>24.00000</td>\n",
       "      <td>0.000000</td>\n",
       "      <td>0.000000</td>\n",
       "      <td>0.000000</td>\n",
       "      <td>0.000000</td>\n",
       "      <td>77.370000</td>\n",
       "      <td>23.200000</td>\n",
       "      <td>0.000000</td>\n",
       "      <td>0.000000</td>\n",
       "    </tr>\n",
       "    <tr>\n",
       "      <th>50%</th>\n",
       "      <td>0.000000</td>\n",
       "      <td>43.00000</td>\n",
       "      <td>0.000000</td>\n",
       "      <td>0.000000</td>\n",
       "      <td>1.000000</td>\n",
       "      <td>1.000000</td>\n",
       "      <td>91.320000</td>\n",
       "      <td>27.700000</td>\n",
       "      <td>0.000000</td>\n",
       "      <td>0.000000</td>\n",
       "    </tr>\n",
       "    <tr>\n",
       "      <th>75%</th>\n",
       "      <td>1.000000</td>\n",
       "      <td>59.00000</td>\n",
       "      <td>0.000000</td>\n",
       "      <td>0.000000</td>\n",
       "      <td>1.000000</td>\n",
       "      <td>1.000000</td>\n",
       "      <td>111.480000</td>\n",
       "      <td>32.900000</td>\n",
       "      <td>0.000000</td>\n",
       "      <td>0.000000</td>\n",
       "    </tr>\n",
       "    <tr>\n",
       "      <th>max</th>\n",
       "      <td>1.000000</td>\n",
       "      <td>82.00000</td>\n",
       "      <td>1.000000</td>\n",
       "      <td>1.000000</td>\n",
       "      <td>1.000000</td>\n",
       "      <td>1.000000</td>\n",
       "      <td>291.050000</td>\n",
       "      <td>97.600000</td>\n",
       "      <td>1.000000</td>\n",
       "      <td>1.000000</td>\n",
       "    </tr>\n",
       "  </tbody>\n",
       "</table>\n",
       "</div>"
      ],
      "text/plain": [
       "               male          age  hypertension  heart_disease  ever_married  \\\n",
       "count  41938.000000  41938.00000  41938.000000   41938.000000  41938.000000   \n",
       "mean       0.405026     41.83929      0.087510       0.043111      0.638657   \n",
       "std        0.490903     22.48366      0.282585       0.203110      0.480395   \n",
       "min        0.000000      0.08000      0.000000       0.000000      0.000000   \n",
       "25%        0.000000     24.00000      0.000000       0.000000      0.000000   \n",
       "50%        0.000000     43.00000      0.000000       0.000000      1.000000   \n",
       "75%        1.000000     59.00000      0.000000       0.000000      1.000000   \n",
       "max        1.000000     82.00000      1.000000       1.000000      1.000000   \n",
       "\n",
       "       urban_resident  avg_glucose_level           bmi    has_smoked  \\\n",
       "count    41938.000000       41938.000000  41938.000000  41938.000000   \n",
       "mean         0.500835         103.632645     28.605038      0.148457   \n",
       "std          0.500005          42.229814      7.770020      0.355557   \n",
       "min          0.000000          55.000000     10.100000      0.000000   \n",
       "25%          0.000000          77.370000     23.200000      0.000000   \n",
       "50%          1.000000          91.320000     27.700000      0.000000   \n",
       "75%          1.000000         111.480000     32.900000      0.000000   \n",
       "max          1.000000         291.050000     97.600000      1.000000   \n",
       "\n",
       "             stroke  \n",
       "count  41938.000000  \n",
       "mean       0.015332  \n",
       "std        0.122872  \n",
       "min        0.000000  \n",
       "25%        0.000000  \n",
       "50%        0.000000  \n",
       "75%        0.000000  \n",
       "max        1.000000  "
      ]
     },
     "execution_count": 3,
     "metadata": {},
     "output_type": "execute_result"
    }
   ],
   "source": [
    "df.describe()"
   ]
  },
  {
   "cell_type": "markdown",
   "metadata": {
    "scrolled": true
   },
   "source": [
    "First, I want to do some general EDA, so I am going to put the data in different grous in an attempt to understand the causes of stroke and how we can predict future strokes."
   ]
  },
  {
   "cell_type": "code",
   "execution_count": 4,
   "metadata": {
    "scrolled": true
   },
   "outputs": [
    {
     "data": {
      "text/html": [
       "<div>\n",
       "<style scoped>\n",
       "    .dataframe tbody tr th:only-of-type {\n",
       "        vertical-align: middle;\n",
       "    }\n",
       "\n",
       "    .dataframe tbody tr th {\n",
       "        vertical-align: top;\n",
       "    }\n",
       "\n",
       "    .dataframe thead th {\n",
       "        text-align: right;\n",
       "    }\n",
       "</style>\n",
       "<table border=\"1\" class=\"dataframe\">\n",
       "  <thead>\n",
       "    <tr style=\"text-align: right;\">\n",
       "      <th></th>\n",
       "      <th>male</th>\n",
       "      <th>age</th>\n",
       "      <th>hypertension</th>\n",
       "      <th>heart_disease</th>\n",
       "      <th>ever_married</th>\n",
       "      <th>urban_resident</th>\n",
       "      <th>avg_glucose_level</th>\n",
       "      <th>bmi</th>\n",
       "      <th>has_smoked</th>\n",
       "    </tr>\n",
       "    <tr>\n",
       "      <th>stroke</th>\n",
       "      <th></th>\n",
       "      <th></th>\n",
       "      <th></th>\n",
       "      <th></th>\n",
       "      <th></th>\n",
       "      <th></th>\n",
       "      <th></th>\n",
       "      <th></th>\n",
       "      <th></th>\n",
       "    </tr>\n",
       "  </thead>\n",
       "  <tbody>\n",
       "    <tr>\n",
       "      <th>0</th>\n",
       "      <td>0.404407</td>\n",
       "      <td>41.424825</td>\n",
       "      <td>0.084708</td>\n",
       "      <td>0.040295</td>\n",
       "      <td>0.634653</td>\n",
       "      <td>0.500690</td>\n",
       "      <td>103.225697</td>\n",
       "      <td>28.585371</td>\n",
       "      <td>0.148057</td>\n",
       "    </tr>\n",
       "    <tr>\n",
       "      <th>1</th>\n",
       "      <td>0.444790</td>\n",
       "      <td>68.457232</td>\n",
       "      <td>0.267496</td>\n",
       "      <td>0.223950</td>\n",
       "      <td>0.895801</td>\n",
       "      <td>0.510109</td>\n",
       "      <td>129.767823</td>\n",
       "      <td>29.868118</td>\n",
       "      <td>0.174184</td>\n",
       "    </tr>\n",
       "  </tbody>\n",
       "</table>\n",
       "</div>"
      ],
      "text/plain": [
       "            male        age  hypertension  heart_disease  ever_married  \\\n",
       "stroke                                                                   \n",
       "0       0.404407  41.424825      0.084708       0.040295      0.634653   \n",
       "1       0.444790  68.457232      0.267496       0.223950      0.895801   \n",
       "\n",
       "        urban_resident  avg_glucose_level        bmi  has_smoked  \n",
       "stroke                                                            \n",
       "0             0.500690         103.225697  28.585371    0.148057  \n",
       "1             0.510109         129.767823  29.868118    0.174184  "
      ]
     },
     "execution_count": 4,
     "metadata": {},
     "output_type": "execute_result"
    }
   ],
   "source": [
    "#Create groupby object for stroke\n",
    "str_group=df.groupby('stroke').mean()\n",
    "str_group\n"
   ]
  },
  {
   "cell_type": "markdown",
   "metadata": {},
   "source": [
    "It appears stroke victims are older and are much more likely to have high blood pressure and heart disease than those who have never suffered a stroke. Let's look at how the other varibles affect all three of these conditions. This may give us insight into what the underlying risk factors for stroke may be."
   ]
  },
  {
   "cell_type": "code",
   "execution_count": 5,
   "metadata": {},
   "outputs": [
    {
     "data": {
      "text/html": [
       "<div>\n",
       "<style scoped>\n",
       "    .dataframe tbody tr th:only-of-type {\n",
       "        vertical-align: middle;\n",
       "    }\n",
       "\n",
       "    .dataframe tbody tr th {\n",
       "        vertical-align: top;\n",
       "    }\n",
       "\n",
       "    .dataframe thead th {\n",
       "        text-align: right;\n",
       "    }\n",
       "</style>\n",
       "<table border=\"1\" class=\"dataframe\">\n",
       "  <thead>\n",
       "    <tr style=\"text-align: right;\">\n",
       "      <th></th>\n",
       "      <th>male</th>\n",
       "      <th>age</th>\n",
       "      <th>hypertension</th>\n",
       "      <th>heart_disease</th>\n",
       "      <th>ever_married</th>\n",
       "      <th>urban_resident</th>\n",
       "      <th>avg_glucose_level</th>\n",
       "      <th>bmi</th>\n",
       "      <th>has_smoked</th>\n",
       "      <th>stroke</th>\n",
       "    </tr>\n",
       "  </thead>\n",
       "  <tbody>\n",
       "    <tr>\n",
       "      <th>0-9</th>\n",
       "      <td>0.511275</td>\n",
       "      <td>4.235262</td>\n",
       "      <td>0.000237</td>\n",
       "      <td>0.000712</td>\n",
       "      <td>0.000000</td>\n",
       "      <td>0.504154</td>\n",
       "      <td>92.381721</td>\n",
       "      <td>18.701139</td>\n",
       "      <td>0.000000</td>\n",
       "      <td>0.000000</td>\n",
       "    </tr>\n",
       "    <tr>\n",
       "      <th>10-19</th>\n",
       "      <td>0.470616</td>\n",
       "      <td>14.854641</td>\n",
       "      <td>0.001679</td>\n",
       "      <td>0.000240</td>\n",
       "      <td>0.007196</td>\n",
       "      <td>0.491485</td>\n",
       "      <td>92.745277</td>\n",
       "      <td>24.530727</td>\n",
       "      <td>0.040777</td>\n",
       "      <td>0.000240</td>\n",
       "    </tr>\n",
       "    <tr>\n",
       "      <th>20-29</th>\n",
       "      <td>0.324139</td>\n",
       "      <td>24.581768</td>\n",
       "      <td>0.008216</td>\n",
       "      <td>0.000782</td>\n",
       "      <td>0.307512</td>\n",
       "      <td>0.500782</td>\n",
       "      <td>93.643734</td>\n",
       "      <td>28.337304</td>\n",
       "      <td>0.204421</td>\n",
       "      <td>0.000196</td>\n",
       "    </tr>\n",
       "    <tr>\n",
       "      <th>30-39</th>\n",
       "      <td>0.359723</td>\n",
       "      <td>34.573648</td>\n",
       "      <td>0.038929</td>\n",
       "      <td>0.002807</td>\n",
       "      <td>0.747146</td>\n",
       "      <td>0.498035</td>\n",
       "      <td>97.372998</td>\n",
       "      <td>30.623657</td>\n",
       "      <td>0.202508</td>\n",
       "      <td>0.003182</td>\n",
       "    </tr>\n",
       "    <tr>\n",
       "      <th>40-49</th>\n",
       "      <td>0.388164</td>\n",
       "      <td>44.638898</td>\n",
       "      <td>0.082002</td>\n",
       "      <td>0.018422</td>\n",
       "      <td>0.884252</td>\n",
       "      <td>0.508151</td>\n",
       "      <td>101.284358</td>\n",
       "      <td>31.190610</td>\n",
       "      <td>0.209162</td>\n",
       "      <td>0.005543</td>\n",
       "    </tr>\n",
       "    <tr>\n",
       "      <th>50-59</th>\n",
       "      <td>0.399632</td>\n",
       "      <td>54.365715</td>\n",
       "      <td>0.124463</td>\n",
       "      <td>0.046808</td>\n",
       "      <td>0.930325</td>\n",
       "      <td>0.498465</td>\n",
       "      <td>108.986602</td>\n",
       "      <td>31.391989</td>\n",
       "      <td>0.197360</td>\n",
       "      <td>0.015500</td>\n",
       "    </tr>\n",
       "    <tr>\n",
       "      <th>60-69</th>\n",
       "      <td>0.413291</td>\n",
       "      <td>64.154149</td>\n",
       "      <td>0.181479</td>\n",
       "      <td>0.093197</td>\n",
       "      <td>0.943767</td>\n",
       "      <td>0.504915</td>\n",
       "      <td>117.343592</td>\n",
       "      <td>31.246874</td>\n",
       "      <td>0.157491</td>\n",
       "      <td>0.025560</td>\n",
       "    </tr>\n",
       "    <tr>\n",
       "      <th>70-79</th>\n",
       "      <td>0.418004</td>\n",
       "      <td>74.902457</td>\n",
       "      <td>0.213641</td>\n",
       "      <td>0.152708</td>\n",
       "      <td>0.924273</td>\n",
       "      <td>0.497242</td>\n",
       "      <td>119.751066</td>\n",
       "      <td>29.351179</td>\n",
       "      <td>0.112086</td>\n",
       "      <td>0.061434</td>\n",
       "    </tr>\n",
       "    <tr>\n",
       "      <th>80+</th>\n",
       "      <td>0.389978</td>\n",
       "      <td>80.925200</td>\n",
       "      <td>0.234568</td>\n",
       "      <td>0.206245</td>\n",
       "      <td>0.884532</td>\n",
       "      <td>0.503994</td>\n",
       "      <td>120.191874</td>\n",
       "      <td>27.778940</td>\n",
       "      <td>0.081336</td>\n",
       "      <td>0.082789</td>\n",
       "    </tr>\n",
       "  </tbody>\n",
       "</table>\n",
       "</div>"
      ],
      "text/plain": [
       "           male        age  hypertension  heart_disease  ever_married  \\\n",
       "0-9    0.511275   4.235262      0.000237       0.000712      0.000000   \n",
       "10-19  0.470616  14.854641      0.001679       0.000240      0.007196   \n",
       "20-29  0.324139  24.581768      0.008216       0.000782      0.307512   \n",
       "30-39  0.359723  34.573648      0.038929       0.002807      0.747146   \n",
       "40-49  0.388164  44.638898      0.082002       0.018422      0.884252   \n",
       "50-59  0.399632  54.365715      0.124463       0.046808      0.930325   \n",
       "60-69  0.413291  64.154149      0.181479       0.093197      0.943767   \n",
       "70-79  0.418004  74.902457      0.213641       0.152708      0.924273   \n",
       "80+    0.389978  80.925200      0.234568       0.206245      0.884532   \n",
       "\n",
       "       urban_resident  avg_glucose_level        bmi  has_smoked    stroke  \n",
       "0-9          0.504154          92.381721  18.701139    0.000000  0.000000  \n",
       "10-19        0.491485          92.745277  24.530727    0.040777  0.000240  \n",
       "20-29        0.500782          93.643734  28.337304    0.204421  0.000196  \n",
       "30-39        0.498035          97.372998  30.623657    0.202508  0.003182  \n",
       "40-49        0.508151         101.284358  31.190610    0.209162  0.005543  \n",
       "50-59        0.498465         108.986602  31.391989    0.197360  0.015500  \n",
       "60-69        0.504915         117.343592  31.246874    0.157491  0.025560  \n",
       "70-79        0.497242         119.751066  29.351179    0.112086  0.061434  \n",
       "80+          0.503994         120.191874  27.778940    0.081336  0.082789  "
      ]
     },
     "execution_count": 5,
     "metadata": {},
     "output_type": "execute_result"
    }
   ],
   "source": [
    "#create a groupby object with 10 year age containers\n",
    "age_groups= df.groupby([df.age.astype(float)//10*10])\n",
    "gmean=age_groups.mean()\n",
    "gmean.index= ['0-9','10-19','20-29', '30-39', '40-49', '50-59', '60-69','70-79', '80+' ]\n",
    "gmean"
   ]
  },
  {
   "cell_type": "code",
   "execution_count": 6,
   "metadata": {
    "scrolled": false
   },
   "outputs": [
    {
     "data": {
      "image/png": "[encoded data removed]",
      "text/plain": [
       "<Figure size 432x288 with 3 Axes>"
      ]
     },
     "metadata": {
      "needs_background": "light"
     },
     "output_type": "display_data"
    }
   ],
   "source": [
    "#Create subplots\n",
    "f, axes = plt.subplots(3, 1)\n",
    "#Bar graph of the percentage of each age group to suffer a stroke\n",
    "sns.barplot(x=gmean.index, y=gmean.stroke, ax=axes[0] )\n",
    "#Bar graph of the percentage of each age group to have high blood pressure\n",
    "sns.barplot(x=gmean.index, y=gmean.hypertension, ax=axes[1])\n",
    "#Bar graph of the percentage of each age group to suffer from heart disease\n",
    "sns.barplot(x=gmean.index, y=gmean.heart_disease, ax = axes[2])\n",
    "f.tight_layout()\n",
    "plt.show()"
   ]
  },
  {
   "cell_type": "markdown",
   "metadata": {},
   "source": [
    "It appears age is a huge factor in predicting stroke, hypertension and heart disease. This makes sense because older people are more susceptible to most medical conditions. We should keep an eye out to see how age related other variables are. "
   ]
  },
  {
   "cell_type": "code",
   "execution_count": 7,
   "metadata": {},
   "outputs": [
    {
     "data": {
      "text/html": [
       "<div>\n",
       "<style scoped>\n",
       "    .dataframe tbody tr th:only-of-type {\n",
       "        vertical-align: middle;\n",
       "    }\n",
       "\n",
       "    .dataframe tbody tr th {\n",
       "        vertical-align: top;\n",
       "    }\n",
       "\n",
       "    .dataframe thead th {\n",
       "        text-align: right;\n",
       "    }\n",
       "</style>\n",
       "<table border=\"1\" class=\"dataframe\">\n",
       "  <thead>\n",
       "    <tr style=\"text-align: right;\">\n",
       "      <th></th>\n",
       "      <th>male</th>\n",
       "      <th>age</th>\n",
       "      <th>hypertension</th>\n",
       "      <th>heart_disease</th>\n",
       "      <th>ever_married</th>\n",
       "      <th>urban_resident</th>\n",
       "      <th>avg_glucose_level</th>\n",
       "      <th>bmi</th>\n",
       "      <th>has_smoked</th>\n",
       "      <th>stroke</th>\n",
       "    </tr>\n",
       "    <tr>\n",
       "      <th>bmi_class</th>\n",
       "      <th></th>\n",
       "      <th></th>\n",
       "      <th></th>\n",
       "      <th></th>\n",
       "      <th></th>\n",
       "      <th></th>\n",
       "      <th></th>\n",
       "      <th></th>\n",
       "      <th></th>\n",
       "      <th></th>\n",
       "    </tr>\n",
       "  </thead>\n",
       "  <tbody>\n",
       "    <tr>\n",
       "      <th>Normal</th>\n",
       "      <td>0.341331</td>\n",
       "      <td>34.415457</td>\n",
       "      <td>0.038117</td>\n",
       "      <td>0.026347</td>\n",
       "      <td>0.483115</td>\n",
       "      <td>0.504301</td>\n",
       "      <td>96.011434</td>\n",
       "      <td>22.138787</td>\n",
       "      <td>0.135265</td>\n",
       "      <td>0.011046</td>\n",
       "    </tr>\n",
       "    <tr>\n",
       "      <th>Obese</th>\n",
       "      <td>0.410015</td>\n",
       "      <td>48.997554</td>\n",
       "      <td>0.133530</td>\n",
       "      <td>0.055987</td>\n",
       "      <td>0.788125</td>\n",
       "      <td>0.501478</td>\n",
       "      <td>112.438196</td>\n",
       "      <td>36.231677</td>\n",
       "      <td>0.169069</td>\n",
       "      <td>0.017615</td>\n",
       "    </tr>\n",
       "    <tr>\n",
       "      <th>Overweight</th>\n",
       "      <td>0.439990</td>\n",
       "      <td>47.688008</td>\n",
       "      <td>0.092478</td>\n",
       "      <td>0.051861</td>\n",
       "      <td>0.734507</td>\n",
       "      <td>0.496819</td>\n",
       "      <td>101.488317</td>\n",
       "      <td>27.371124</td>\n",
       "      <td>0.166216</td>\n",
       "      <td>0.019786</td>\n",
       "    </tr>\n",
       "    <tr>\n",
       "      <th>Underweight</th>\n",
       "      <td>0.474560</td>\n",
       "      <td>10.015276</td>\n",
       "      <td>0.006281</td>\n",
       "      <td>0.004083</td>\n",
       "      <td>0.070666</td>\n",
       "      <td>0.500000</td>\n",
       "      <td>92.894965</td>\n",
       "      <td>16.591960</td>\n",
       "      <td>0.025126</td>\n",
       "      <td>0.002513</td>\n",
       "    </tr>\n",
       "  </tbody>\n",
       "</table>\n",
       "</div>"
      ],
      "text/plain": [
       "                 male        age  hypertension  heart_disease  ever_married  \\\n",
       "bmi_class                                                                     \n",
       "Normal       0.341331  34.415457      0.038117       0.026347      0.483115   \n",
       "Obese        0.410015  48.997554      0.133530       0.055987      0.788125   \n",
       "Overweight   0.439990  47.688008      0.092478       0.051861      0.734507   \n",
       "Underweight  0.474560  10.015276      0.006281       0.004083      0.070666   \n",
       "\n",
       "             urban_resident  avg_glucose_level        bmi  has_smoked  \\\n",
       "bmi_class                                                               \n",
       "Normal             0.504301          96.011434  22.138787    0.135265   \n",
       "Obese              0.501478         112.438196  36.231677    0.169069   \n",
       "Overweight         0.496819         101.488317  27.371124    0.166216   \n",
       "Underweight        0.500000          92.894965  16.591960    0.025126   \n",
       "\n",
       "               stroke  \n",
       "bmi_class              \n",
       "Normal       0.011046  \n",
       "Obese        0.017615  \n",
       "Overweight   0.019786  \n",
       "Underweight  0.002513  "
      ]
     },
     "execution_count": 7,
     "metadata": {},
     "output_type": "execute_result"
    }
   ],
   "source": [
    "#create groupby object for bmi class\n",
    "grbmimean=df.groupby('bmi_class').mean()\n",
    "\n",
    "grbmimean"
   ]
  },
  {
   "cell_type": "code",
   "execution_count": 8,
   "metadata": {},
   "outputs": [
    {
     "data": {
      "text/plain": [
       "Obese          16236\n",
       "Overweight     11473\n",
       "Normal         11045\n",
       "Underweight     3184\n",
       "Name: bmi_class, dtype: int64"
      ]
     },
     "execution_count": 8,
     "metadata": {},
     "output_type": "execute_result"
    }
   ],
   "source": [
    "df.bmi_class.value_counts()"
   ]
  },
  {
   "cell_type": "code",
   "execution_count": 9,
   "metadata": {
    "scrolled": true
   },
   "outputs": [
    {
     "data": {
      "image/png": "[encoded data removed]",
      "text/plain": [
       "<Figure size 432x288 with 3 Axes>"
      ]
     },
     "metadata": {
      "needs_background": "light"
     },
     "output_type": "display_data"
    },
    {
     "name": "stdout",
     "output_type": "stream",
     "text": [
      "The correlation between bmi and stroke is 0.0202847918858\n"
     ]
    }
   ],
   "source": [
    "#create subplots\n",
    "f, axes = plt.subplots(3, 1)\n",
    "#bar graph of percentage of stroke victims in each bmi class\n",
    "sns.barplot(x=grbmimean.index, y=grbmimean.stroke, ax=axes[0])\n",
    "axes[0].set(ylabel='Stroke Rate',  xlabel='BMI Class')\n",
    "#bar graph of percentage of people with high blood pressure in each bmi class\n",
    "sns.barplot(x=grbmimean.index, y=grbmimean.hypertension, ax=axes[1])\n",
    "axes[1].set(ylabel='Hypertension Rate',  xlabel='BMI Class')\n",
    "#bar graph of percentage of people who suffer from heart disease in each bmi class\n",
    "sns.barplot(x=grbmimean.index, y=grbmimean.heart_disease, ax=axes[2])\n",
    "axes[2].set(ylabel='Heart Disease Rate',  xlabel='BMI Class')\n",
    "f.tight_layout()\n",
    "plt.show()\n",
    "print('The correlation between bmi and stroke is {}').format(np.corrcoef(df.bmi, df.stroke)[1,0])"
   ]
  },
  {
   "cell_type": "markdown",
   "metadata": {},
   "source": [
    "These results are somewhat surprising. While people classified as overweight or obese are more likely to have heart disease and hypertension, underweight subjects are actually most at risk for stroke. This is bourne out by the fact that the correlation between bmi and stroke is negative. Lets compare the cdfs of bmi on stroke and non stroke victims. This will show us if there are any descrepencies in the distributions."
   ]
  },
  {
   "cell_type": "code",
   "execution_count": 10,
   "metadata": {
    "scrolled": true
   },
   "outputs": [
    {
     "data": {
      "image/png": "[encoded data removed]",
      "text/plain": [
       "<Figure size 432x288 with 1 Axes>"
      ]
     },
     "metadata": {
      "needs_background": "light"
     },
     "output_type": "display_data"
    }
   ],
   "source": [
    "#Use ecdf function to get x, y coordinates cdf's for the bmi for people who have and have not had strokes\n",
    "strx_bmi,stry_bmi= ecdf(df.bmi[df.stroke==1])\n",
    "x_norm, y_norm= ecdf(df.bmi[df.stroke==0])\n",
    "#Plot both lines\n",
    "plt.plot(x_norm,y_norm, color='red', linestyle='none', marker='.',)\n",
    "plt.plot(strx_bmi,stry_bmi, color='blue' , linestyle='none', marker='o')\n",
    "#Label Axis\n",
    "plt.xlabel('BMI')\n",
    "plt.ylabel('Percentage under this level')\n",
    "#Add Legend\n",
    "plt.legend(('No previous stroke', 'Previous Stroke'),loc='lower right')\n",
    "plt.show()"
   ]
  },
  {
   "cell_type": "markdown",
   "metadata": {},
   "source": [
    "There dos not appear to be a significant difference in the distributions. This shows that people tend to have similar BMI's regardless of their history of stroke. Next lets look at glucose level."
   ]
  },
  {
   "cell_type": "code",
   "execution_count": 11,
   "metadata": {},
   "outputs": [
    {
     "data": {
      "text/html": [
       "<div>\n",
       "<style scoped>\n",
       "    .dataframe tbody tr th:only-of-type {\n",
       "        vertical-align: middle;\n",
       "    }\n",
       "\n",
       "    .dataframe tbody tr th {\n",
       "        vertical-align: top;\n",
       "    }\n",
       "\n",
       "    .dataframe thead th {\n",
       "        text-align: right;\n",
       "    }\n",
       "</style>\n",
       "<table border=\"1\" class=\"dataframe\">\n",
       "  <thead>\n",
       "    <tr style=\"text-align: right;\">\n",
       "      <th></th>\n",
       "      <th>male</th>\n",
       "      <th>age</th>\n",
       "      <th>hypertension</th>\n",
       "      <th>heart_disease</th>\n",
       "      <th>ever_married</th>\n",
       "      <th>urban_resident</th>\n",
       "      <th>avg_glucose_level</th>\n",
       "      <th>bmi</th>\n",
       "      <th>has_smoked</th>\n",
       "      <th>stroke</th>\n",
       "    </tr>\n",
       "    <tr>\n",
       "      <th>glucose_class</th>\n",
       "      <th></th>\n",
       "      <th></th>\n",
       "      <th></th>\n",
       "      <th></th>\n",
       "      <th></th>\n",
       "      <th></th>\n",
       "      <th></th>\n",
       "      <th></th>\n",
       "      <th></th>\n",
       "      <th></th>\n",
       "    </tr>\n",
       "  </thead>\n",
       "  <tbody>\n",
       "    <tr>\n",
       "      <th>0-20th</th>\n",
       "      <td>0.401667</td>\n",
       "      <td>39.835083</td>\n",
       "      <td>0.071621</td>\n",
       "      <td>0.033697</td>\n",
       "      <td>0.611013</td>\n",
       "      <td>0.504638</td>\n",
       "      <td>65.753990</td>\n",
       "      <td>27.966303</td>\n",
       "      <td>0.150640</td>\n",
       "      <td>0.012446</td>\n",
       "    </tr>\n",
       "    <tr>\n",
       "      <th>21st-40th</th>\n",
       "      <td>0.402966</td>\n",
       "      <td>39.655383</td>\n",
       "      <td>0.068683</td>\n",
       "      <td>0.027521</td>\n",
       "      <td>0.609846</td>\n",
       "      <td>0.498932</td>\n",
       "      <td>80.215746</td>\n",
       "      <td>28.054852</td>\n",
       "      <td>0.145670</td>\n",
       "      <td>0.012337</td>\n",
       "    </tr>\n",
       "    <tr>\n",
       "      <th>41st-60th</th>\n",
       "      <td>0.394559</td>\n",
       "      <td>39.925232</td>\n",
       "      <td>0.068433</td>\n",
       "      <td>0.032078</td>\n",
       "      <td>0.610906</td>\n",
       "      <td>0.505168</td>\n",
       "      <td>91.717682</td>\n",
       "      <td>28.058406</td>\n",
       "      <td>0.138173</td>\n",
       "      <td>0.009623</td>\n",
       "    </tr>\n",
       "    <tr>\n",
       "      <th>61st-80th</th>\n",
       "      <td>0.394940</td>\n",
       "      <td>39.692785</td>\n",
       "      <td>0.069011</td>\n",
       "      <td>0.031595</td>\n",
       "      <td>0.610405</td>\n",
       "      <td>0.492933</td>\n",
       "      <td>107.281061</td>\n",
       "      <td>27.984915</td>\n",
       "      <td>0.142891</td>\n",
       "      <td>0.011165</td>\n",
       "    </tr>\n",
       "    <tr>\n",
       "      <th>81st-100th</th>\n",
       "      <td>0.431882</td>\n",
       "      <td>50.381562</td>\n",
       "      <td>0.162354</td>\n",
       "      <td>0.092336</td>\n",
       "      <td>0.755120</td>\n",
       "      <td>0.502514</td>\n",
       "      <td>175.930524</td>\n",
       "      <td>31.045261</td>\n",
       "      <td>0.165420</td>\n",
       "      <td>0.031637</td>\n",
       "    </tr>\n",
       "  </tbody>\n",
       "</table>\n",
       "</div>"
      ],
      "text/plain": [
       "                   male        age  hypertension  heart_disease  ever_married  \\\n",
       "glucose_class                                                                   \n",
       "0-20th         0.401667  39.835083      0.071621       0.033697      0.611013   \n",
       "21st-40th      0.402966  39.655383      0.068683       0.027521      0.609846   \n",
       "41st-60th      0.394559  39.925232      0.068433       0.032078      0.610906   \n",
       "61st-80th      0.394940  39.692785      0.069011       0.031595      0.610405   \n",
       "81st-100th     0.431882  50.381562      0.162354       0.092336      0.755120   \n",
       "\n",
       "               urban_resident  avg_glucose_level        bmi  has_smoked  \\\n",
       "glucose_class                                                             \n",
       "0-20th               0.504638          65.753990  27.966303    0.150640   \n",
       "21st-40th            0.498932          80.215746  28.054852    0.145670   \n",
       "41st-60th            0.505168          91.717682  28.058406    0.138173   \n",
       "61st-80th            0.492933         107.281061  27.984915    0.142891   \n",
       "81st-100th           0.502514         175.930524  31.045261    0.165420   \n",
       "\n",
       "                 stroke  \n",
       "glucose_class            \n",
       "0-20th         0.012446  \n",
       "21st-40th      0.012337  \n",
       "41st-60th      0.009623  \n",
       "61st-80th      0.011165  \n",
       "81st-100th     0.031637  "
      ]
     },
     "execution_count": 11,
     "metadata": {},
     "output_type": "execute_result"
    }
   ],
   "source": [
    "#create groupby object grouped by the the classification of glucose \n",
    "grglumean=df.groupby('glucose_class').mean()\n",
    "\n",
    "\n",
    "grglumean"
   ]
  },
  {
   "cell_type": "code",
   "execution_count": 12,
   "metadata": {
    "scrolled": true
   },
   "outputs": [
    {
     "data": {
      "image/png": "[encoded data removed]",
      "text/plain": [
       "<Figure size 432x288 with 3 Axes>"
      ]
     },
     "metadata": {
      "needs_background": "light"
     },
     "output_type": "display_data"
    },
    {
     "name": "stdout",
     "output_type": "stream",
     "text": [
      "The correlation between glucose level and stroke is 0.0772268310623\n"
     ]
    }
   ],
   "source": [
    "#create subplots\n",
    "f, axes = plt.subplots(3, 1)\n",
    "#bar graph of percentage of stroke victims in each glucose class\n",
    "sns.barplot(x=grglumean.index, y=grglumean.stroke, ax=axes[0])\n",
    "axes[0].set(ylabel='Rate of Stroke',  xlabel='Glucose Class')\n",
    "#bar graph of percentage of hypertension in each glucose class\n",
    "sns.barplot(x=grglumean.index, y=grglumean.hypertension, ax=axes[1])\n",
    "axes[1].set(ylabel='Hypertension Rate',  xlabel='Glucose Class')\n",
    "#bar graph of percentage of people with heart disease in each glucose class\n",
    "sns.barplot(x=grglumean.index, y=grglumean.heart_disease, ax=axes[2])\n",
    "axes[2].set(ylabel=' Heart Disease Rate',  xlabel='Glucose Class')\n",
    "\n",
    "f.tight_layout()\n",
    "plt.show()\n",
    "print('The correlation between glucose level and stroke is {}').format(np.corrcoef(df.avg_glucose_level, df.stroke)[1,0])"
   ]
  },
  {
   "cell_type": "markdown",
   "metadata": {},
   "source": [
    "It appears there is a threshhold for when an average glucose level becomes too high. We can see this because people in the highest class of average glucose level are at significantly higher risk for hypertension, heart disease and stroke. This shows that despite only a small correlation glucose level can be predictive when is comes to stroke. One caveat to this would be that people with the highest average glucose levels tend to be significantly older."
   ]
  },
  {
   "cell_type": "code",
   "execution_count": 13,
   "metadata": {},
   "outputs": [
    {
     "data": {
      "image/png": "[encoded data removed]",
      "text/plain": [
       "<Figure size 432x288 with 1 Axes>"
      ]
     },
     "metadata": {
      "needs_background": "light"
     },
     "output_type": "display_data"
    }
   ],
   "source": [
    "#Use ecdf function to get x, y coordinates cdf's for the glucose level for people who have and have not had strokes\n",
    "strx_glu,stry_glu= ecdf(df.avg_glucose_level[df.stroke==1])\n",
    "x_glu, y_glu= ecdf(df.avg_glucose_level[df.stroke==0])\n",
    "#Plot both lines\n",
    "plt.plot(strx_glu,stry_glu, linestyle='none', marker='o')\n",
    "plt.plot(x_glu,y_glu, color='red', linestyle='none', marker='.')\n",
    "#Label axis\n",
    "plt.xlabel('Averge Glucose level')\n",
    "plt.ylabel('Percentage under this level')\n",
    "#create labels\n",
    "plt.legend(( 'Stroke','No previous Stroke'),loc='lower right')\n",
    "\n",
    "plt.show()"
   ]
  },
  {
   "cell_type": "markdown",
   "metadata": {},
   "source": [
    "As is shown in the figure, stroke victims tend to have extreme glucose levels at one end or another. The large gap between the cdf's in the middle shows that nearly 40% of non stroke victims have glucose levels between 100 and 150 while around 15% of stroke victims are in that group."
   ]
  },
  {
   "cell_type": "code",
   "execution_count": 14,
   "metadata": {},
   "outputs": [
    {
     "data": {
      "text/html": [
       "<div>\n",
       "<style scoped>\n",
       "    .dataframe tbody tr th:only-of-type {\n",
       "        vertical-align: middle;\n",
       "    }\n",
       "\n",
       "    .dataframe tbody tr th {\n",
       "        vertical-align: top;\n",
       "    }\n",
       "\n",
       "    .dataframe thead th {\n",
       "        text-align: right;\n",
       "    }\n",
       "</style>\n",
       "<table border=\"1\" class=\"dataframe\">\n",
       "  <thead>\n",
       "    <tr style=\"text-align: right;\">\n",
       "      <th></th>\n",
       "      <th>age</th>\n",
       "      <th>hypertension</th>\n",
       "      <th>heart_disease</th>\n",
       "      <th>ever_married</th>\n",
       "      <th>urban_resident</th>\n",
       "      <th>avg_glucose_level</th>\n",
       "      <th>bmi</th>\n",
       "      <th>has_smoked</th>\n",
       "      <th>stroke</th>\n",
       "    </tr>\n",
       "    <tr>\n",
       "      <th>male</th>\n",
       "      <th></th>\n",
       "      <th></th>\n",
       "      <th></th>\n",
       "      <th></th>\n",
       "      <th></th>\n",
       "      <th></th>\n",
       "      <th></th>\n",
       "      <th></th>\n",
       "      <th></th>\n",
       "    </tr>\n",
       "  </thead>\n",
       "  <tbody>\n",
       "    <tr>\n",
       "      <th>0</th>\n",
       "      <td>42.427411</td>\n",
       "      <td>0.082478</td>\n",
       "      <td>0.029657</td>\n",
       "      <td>0.652332</td>\n",
       "      <td>0.499599</td>\n",
       "      <td>102.516098</td>\n",
       "      <td>28.745672</td>\n",
       "      <td>0.141071</td>\n",
       "      <td>0.014307</td>\n",
       "    </tr>\n",
       "    <tr>\n",
       "      <th>1</th>\n",
       "      <td>40.975356</td>\n",
       "      <td>0.094902</td>\n",
       "      <td>0.062875</td>\n",
       "      <td>0.618568</td>\n",
       "      <td>0.502649</td>\n",
       "      <td>105.272824</td>\n",
       "      <td>28.398452</td>\n",
       "      <td>0.159308</td>\n",
       "      <td>0.016837</td>\n",
       "    </tr>\n",
       "  </tbody>\n",
       "</table>\n",
       "</div>"
      ],
      "text/plain": [
       "            age  hypertension  heart_disease  ever_married  urban_resident  \\\n",
       "male                                                                         \n",
       "0     42.427411      0.082478       0.029657      0.652332        0.499599   \n",
       "1     40.975356      0.094902       0.062875      0.618568        0.502649   \n",
       "\n",
       "      avg_glucose_level        bmi  has_smoked    stroke  \n",
       "male                                                      \n",
       "0            102.516098  28.745672    0.141071  0.014307  \n",
       "1            105.272824  28.398452    0.159308  0.016837  "
      ]
     },
     "execution_count": 14,
     "metadata": {},
     "output_type": "execute_result"
    }
   ],
   "source": [
    "#create groupby object by gender\n",
    "male=df.groupby('male').mean()\n",
    "male"
   ]
  },
  {
   "cell_type": "code",
   "execution_count": 15,
   "metadata": {
    "scrolled": true
   },
   "outputs": [
    {
     "data": {
      "image/png": "[encoded data removed]",
      "text/plain": [
       "<Figure size 432x288 with 3 Axes>"
      ]
     },
     "metadata": {
      "needs_background": "light"
     },
     "output_type": "display_data"
    }
   ],
   "source": [
    "#Create subplots\n",
    "f, axes = plt.subplots(3, 1)\n",
    "#bar graph of percentage of stroke victims by gender\n",
    "sns.barplot(x=male.index, y=male.stroke, ax=axes[0] )\n",
    "#bar graph of percentage of hypertension by gender\n",
    "sns.barplot(x=male.index, y=male.hypertension, ax=axes[1])\n",
    "#bar graph of percentage of heart disease by gender\n",
    "sns.barplot(x=male.index, y=male.heart_disease, ax = axes[2])\n",
    "#changes xticks to male and female rather than 0 and 1\n",
    "for ax in axes:\n",
    "    plt.sca(ax)\n",
    "    plt.xticks(np.arange(2),['Female', 'Male'])\n",
    "    ax.set(xlabel='Gender')\n",
    "f.tight_layout()\n",
    "plt.show()"
   ]
  },
  {
   "cell_type": "markdown",
   "metadata": {},
   "source": [
    "It appears males are at a higher risk of hypertension and stroke and a significantly higer risk of heart disease."
   ]
  },
  {
   "cell_type": "code",
   "execution_count": 16,
   "metadata": {
    "scrolled": true
   },
   "outputs": [
    {
     "data": {
      "image/png": "[encoded data removed]",
      "text/plain": [
       "<Figure size 432x288 with 2 Axes>"
      ]
     },
     "metadata": {
      "needs_background": "light"
     },
     "output_type": "display_data"
    },
    {
     "name": "stdout",
     "output_type": "stream",
     "text": [
      "The correlation between hypertension and stroke is 0.0794789688501 and the correlation between heart disease and stroke is 0.111102212488\n"
     ]
    }
   ],
   "source": [
    "#create subplots\n",
    "f, axes = plt.subplots(2, 1)\n",
    "#bar graph of percentage of hypertension by whether one has had a stroke\n",
    "sns.barplot(x=str_group.index, y=str_group.hypertension, ax=axes[0])\n",
    "axes[0].set(ylabel='Rate of Hypertension',  xlabel='History of Stroke')\n",
    "#change xticks\n",
    "plt.sca(axes[0])\n",
    "plt.xticks(np.arange(2),['No', 'Yes'])\n",
    "#bar graph of percentage of heart disease by whether one has had a stroke\n",
    "sns.barplot(x=str_group.index, y=str_group.heart_disease, ax=axes[1])\n",
    "axes[1].set(ylabel='Rate of Heart Disease', xlabel='History of Stroke')\n",
    "#change xticks\n",
    "plt.sca(axes[1])\n",
    "plt.xticks(np.arange(2),['No', 'Yes'])\n",
    "plt.show()\n",
    "print('The correlation between hypertension and stroke is {} and the correlation between heart disease and stroke is {}'\n",
    "     ).format(np.corrcoef(df.hypertension, df.stroke)[0,1],np.corrcoef(df.heart_disease, df.stroke)[0,1]),\n"
   ]
  },
  {
   "cell_type": "markdown",
   "metadata": {},
   "source": [
    "As we have seen in previous analysis, it is clear that heart disease and hypertension are risk factors for stroke. It may be interesting to see how these two major risk factors interact."
   ]
  },
  {
   "cell_type": "code",
   "execution_count": 17,
   "metadata": {},
   "outputs": [
    {
     "data": {
      "text/html": [
       "<div>\n",
       "<style scoped>\n",
       "    .dataframe tbody tr th:only-of-type {\n",
       "        vertical-align: middle;\n",
       "    }\n",
       "\n",
       "    .dataframe tbody tr th {\n",
       "        vertical-align: top;\n",
       "    }\n",
       "\n",
       "    .dataframe thead th {\n",
       "        text-align: right;\n",
       "    }\n",
       "</style>\n",
       "<table border=\"1\" class=\"dataframe\">\n",
       "  <thead>\n",
       "    <tr style=\"text-align: right;\">\n",
       "      <th></th>\n",
       "      <th>male</th>\n",
       "      <th>age</th>\n",
       "      <th>hypertension</th>\n",
       "      <th>heart_disease</th>\n",
       "      <th>ever_married</th>\n",
       "      <th>urban_resident</th>\n",
       "      <th>avg_glucose_level</th>\n",
       "      <th>bmi</th>\n",
       "      <th>has_smoked</th>\n",
       "      <th>stroke</th>\n",
       "    </tr>\n",
       "    <tr>\n",
       "      <th>risk_factor</th>\n",
       "      <th></th>\n",
       "      <th></th>\n",
       "      <th></th>\n",
       "      <th></th>\n",
       "      <th></th>\n",
       "      <th></th>\n",
       "      <th></th>\n",
       "      <th></th>\n",
       "      <th></th>\n",
       "      <th></th>\n",
       "    </tr>\n",
       "  </thead>\n",
       "  <tbody>\n",
       "    <tr>\n",
       "      <th>Both</th>\n",
       "      <td>0.569682</td>\n",
       "      <td>69.276284</td>\n",
       "      <td>1.000000</td>\n",
       "      <td>1.000000</td>\n",
       "      <td>0.916870</td>\n",
       "      <td>0.520782</td>\n",
       "      <td>139.307188</td>\n",
       "      <td>31.555990</td>\n",
       "      <td>0.261614</td>\n",
       "      <td>0.088020</td>\n",
       "    </tr>\n",
       "    <tr>\n",
       "      <th>Neither</th>\n",
       "      <td>0.365034</td>\n",
       "      <td>47.650692</td>\n",
       "      <td>0.000000</td>\n",
       "      <td>0.000000</td>\n",
       "      <td>0.779799</td>\n",
       "      <td>0.504581</td>\n",
       "      <td>103.597939</td>\n",
       "      <td>30.090041</td>\n",
       "      <td>0.226015</td>\n",
       "      <td>0.013391</td>\n",
       "    </tr>\n",
       "    <tr>\n",
       "      <th>One</th>\n",
       "      <td>0.467209</td>\n",
       "      <td>62.057194</td>\n",
       "      <td>0.718607</td>\n",
       "      <td>0.281393</td>\n",
       "      <td>0.912049</td>\n",
       "      <td>0.492374</td>\n",
       "      <td>126.039059</td>\n",
       "      <td>32.173894</td>\n",
       "      <td>0.207931</td>\n",
       "      <td>0.052872</td>\n",
       "    </tr>\n",
       "  </tbody>\n",
       "</table>\n",
       "</div>"
      ],
      "text/plain": [
       "                 male        age  hypertension  heart_disease  ever_married  \\\n",
       "risk_factor                                                                   \n",
       "Both         0.569682  69.276284      1.000000       1.000000      0.916870   \n",
       "Neither      0.365034  47.650692      0.000000       0.000000      0.779799   \n",
       "One          0.467209  62.057194      0.718607       0.281393      0.912049   \n",
       "\n",
       "             urban_resident  avg_glucose_level        bmi  has_smoked  \\\n",
       "risk_factor                                                             \n",
       "Both               0.520782         139.307188  31.555990    0.261614   \n",
       "Neither            0.504581         103.597939  30.090041    0.226015   \n",
       "One                0.492374         126.039059  32.173894    0.207931   \n",
       "\n",
       "               stroke  \n",
       "risk_factor            \n",
       "Both         0.088020  \n",
       "Neither      0.013391  \n",
       "One          0.052872  "
      ]
     },
     "execution_count": 17,
     "metadata": {},
     "output_type": "execute_result"
    }
   ],
   "source": [
    "#create groupby object grouped by risk factor\n",
    "risk= df.groupby('risk_factor').mean()\n",
    "risk"
   ]
  },
  {
   "cell_type": "code",
   "execution_count": 18,
   "metadata": {
    "scrolled": true
   },
   "outputs": [
    {
     "data": {
      "text/plain": [
       "Text(0,0.5,'Rate of Stroke')"
      ]
     },
     "execution_count": 18,
     "metadata": {},
     "output_type": "execute_result"
    },
    {
     "data": {
      "image/png": "[encoded data removed]",
      "text/plain": [
       "<Figure size 432x288 with 1 Axes>"
      ]
     },
     "metadata": {
      "needs_background": "light"
     },
     "output_type": "display_data"
    }
   ],
   "source": [
    "#Create bar graph risk factor and percentage of people who have had a stroke\n",
    "sns.barplot(x=risk.index, y=risk.stroke)\n",
    "plt.xlabel('History of Heart Disease and Hypertension')\n",
    "plt.ylabel('Rate of Stroke')"
   ]
  },
  {
   "cell_type": "markdown",
   "metadata": {},
   "source": [
    "As one would expect, having both risk factors more than quadruples your risk over someone who has none."
   ]
  },
  {
   "cell_type": "code",
   "execution_count": 19,
   "metadata": {
    "scrolled": true
   },
   "outputs": [
    {
     "data": {
      "text/html": [
       "<div>\n",
       "<style scoped>\n",
       "    .dataframe tbody tr th:only-of-type {\n",
       "        vertical-align: middle;\n",
       "    }\n",
       "\n",
       "    .dataframe tbody tr th {\n",
       "        vertical-align: top;\n",
       "    }\n",
       "\n",
       "    .dataframe thead th {\n",
       "        text-align: right;\n",
       "    }\n",
       "</style>\n",
       "<table border=\"1\" class=\"dataframe\">\n",
       "  <thead>\n",
       "    <tr style=\"text-align: right;\">\n",
       "      <th></th>\n",
       "      <th>male</th>\n",
       "      <th>age</th>\n",
       "      <th>hypertension</th>\n",
       "      <th>heart_disease</th>\n",
       "      <th>ever_married</th>\n",
       "      <th>urban_resident</th>\n",
       "      <th>avg_glucose_level</th>\n",
       "      <th>bmi</th>\n",
       "      <th>stroke</th>\n",
       "    </tr>\n",
       "    <tr>\n",
       "      <th>has_smoked</th>\n",
       "      <th></th>\n",
       "      <th></th>\n",
       "      <th></th>\n",
       "      <th></th>\n",
       "      <th></th>\n",
       "      <th></th>\n",
       "      <th></th>\n",
       "      <th></th>\n",
       "      <th></th>\n",
       "    </tr>\n",
       "  </thead>\n",
       "  <tbody>\n",
       "    <tr>\n",
       "      <th>0</th>\n",
       "      <td>0.399866</td>\n",
       "      <td>41.100951</td>\n",
       "      <td>0.084565</td>\n",
       "      <td>0.039931</td>\n",
       "      <td>0.617664</td>\n",
       "      <td>0.498852</td>\n",
       "      <td>103.198396</td>\n",
       "      <td>28.367882</td>\n",
       "      <td>0.014869</td>\n",
       "    </tr>\n",
       "    <tr>\n",
       "      <th>1</th>\n",
       "      <td>0.434629</td>\n",
       "      <td>46.074366</td>\n",
       "      <td>0.104401</td>\n",
       "      <td>0.061356</td>\n",
       "      <td>0.759075</td>\n",
       "      <td>0.512207</td>\n",
       "      <td>106.123476</td>\n",
       "      <td>29.965355</td>\n",
       "      <td>0.017989</td>\n",
       "    </tr>\n",
       "  </tbody>\n",
       "</table>\n",
       "</div>"
      ],
      "text/plain": [
       "                male        age  hypertension  heart_disease  ever_married  \\\n",
       "has_smoked                                                                   \n",
       "0           0.399866  41.100951      0.084565       0.039931      0.617664   \n",
       "1           0.434629  46.074366      0.104401       0.061356      0.759075   \n",
       "\n",
       "            urban_resident  avg_glucose_level        bmi    stroke  \n",
       "has_smoked                                                          \n",
       "0                 0.498852         103.198396  28.367882  0.014869  \n",
       "1                 0.512207         106.123476  29.965355  0.017989  "
      ]
     },
     "execution_count": 19,
     "metadata": {},
     "output_type": "execute_result"
    }
   ],
   "source": [
    "#create a groupby object grouped by wheather or not the subject has smoked\n",
    "smokegr=df.groupby('has_smoked').mean()\n",
    "smokegr"
   ]
  },
  {
   "cell_type": "code",
   "execution_count": 20,
   "metadata": {},
   "outputs": [
    {
     "data": {
      "image/png": "[encoded data removed]",
      "text/plain": [
       "<Figure size 432x288 with 3 Axes>"
      ]
     },
     "metadata": {
      "needs_background": "light"
     },
     "output_type": "display_data"
    }
   ],
   "source": [
    "#create subplots\n",
    "f, axes = plt.subplots(3, 1)\n",
    "#Bar graph between rate of stroke and whether subject was a smoker\n",
    "sns.barplot(x=smokegr.index, y=smokegr.stroke, ax=axes[0])\n",
    "#Bar graph between rate of hypertension and whether subject was a smoker\n",
    "sns.barplot(x=smokegr.index, y=smokegr.hypertension, ax=axes[1])\n",
    "#Bar graph between rate of heart disease and whether subject was a smoker\n",
    "sns.barplot(x=smokegr.index, y=smokegr.heart_disease, ax=axes[2])\n",
    "for ax in axes:\n",
    "    plt.sca(ax)\n",
    "    plt.xticks(np.arange(2),['No', 'Yes'])\n",
    "    ax.set(xlabel='Current or Former Smoker')\n",
    "f.tight_layout()"
   ]
  },
  {
   "cell_type": "markdown",
   "metadata": {},
   "source": [
    "We would expect smoking to increase the likelihood of stroke but the data does not bear that out here. One reason could be that smokers in the study were reletively younger. This is a good place to dive into inferential stats to see if the difference in means between smokers and non smokers a random occurrence. While it may seem obvious that smoking would increase your likelihood of stroke the data does not bear this out at first glance. With this in mind our null hypothesis will be that smoking has no affect on a person's likelihood to have a stroke."
   ]
  },
  {
   "cell_type": "code",
   "execution_count": 21,
   "metadata": {},
   "outputs": [],
   "source": [
    "\n",
    "def permutation_sample(data1, data2):\n",
    "    '''Create a permuted smaple to test hypotheses'''\n",
    "    data=np.concatenate((data1,data2))\n",
    "    permuted_data= np.random.permutation(data)\n",
    "    perm_data1=permuted_data[:len(data1)]\n",
    "    perm_data2=permuted_data[len(data1):]\n",
    "    return perm_data1, perm_data2\n",
    "\n",
    "def permutation_replicate(data1, data2, func, size=1):\n",
    "    '''Get replicates from permuted sample'''\n",
    "    replicate=np.empty(size)\n",
    "    for i in range(size):\n",
    "        sam1, sam2= permutation_sample(data1, data2)\n",
    "        replicate[i]= func(sam1, sam2)\n",
    "    return replicate\n",
    "\n",
    "\n",
    "def mean_diff(data1, data2):\n",
    "    '''obtain the mean difference between 2 samples'''\n",
    "    diff= np.mean(data1)-np.mean(data2)\n",
    "    return diff\n",
    "        \n",
    "    \n",
    "def mean_ratio(data1,data2):\n",
    "    '''obtain the mean ratio between 2 samples'''\n",
    "    ratio=np.mean(data1)/np.mean(data2)\n",
    "    return ratio"
   ]
  },
  {
   "cell_type": "code",
   "execution_count": 22,
   "metadata": {},
   "outputs": [],
   "source": [
    "#h0 will be that smoking has no affect on stroke\n",
    "\n",
    "#seperate into smokers and non-smokers\n",
    "smoker_str=np.array(df.stroke[df.has_smoked==1])\n",
    "nonsmoker_str=np.array(df.stroke[df.has_smoked==0])\n",
    "#get observed quantities\n",
    "smo_obsv_rat=mean_ratio( smoker_str,nonsmoker_str,)\n",
    "smo_obsv_diff= smoker_str.mean()-nonsmoker_str.mean()\n"
   ]
  },
  {
   "cell_type": "code",
   "execution_count": 23,
   "metadata": {},
   "outputs": [],
   "source": [
    "#create permuted samples\n",
    "smoker_mean_perm_reps=permutation_replicate(smoker_str, nonsmoker_str, mean_diff, size= 10000)\n",
    "smoker_ratio_perm_reps=permutation_replicate(smoker_str, nonsmoker_str, mean_ratio, size= 10000)"
   ]
  },
  {
   "cell_type": "code",
   "execution_count": 24,
   "metadata": {},
   "outputs": [
    {
     "data": {
      "text/plain": [
       "<matplotlib.lines.Line2D at 0x1a1b638dd0>"
      ]
     },
     "execution_count": 24,
     "metadata": {},
     "output_type": "execute_result"
    },
    {
     "data": {
      "image/png": "[encoded data removed]",
      "text/plain": [
       "<Figure size 432x288 with 1 Axes>"
      ]
     },
     "metadata": {
      "needs_background": "light"
     },
     "output_type": "display_data"
    }
   ],
   "source": [
    "#create histogram\n",
    "plt.hist(smoker_ratio_perm_reps, bins= 12)\n",
    "plt.ylabel('Count')\n",
    "plt.xlabel('Smoker Ratio')\n",
    "plt.title('Mean Ratio Permutation sample with Observed Ratio')\n",
    "#show where observed ratio falls in the distribution\n",
    "plt.axvline(smo_obsv_rat, color='k', linestyle='dashed', linewidth=2)"
   ]
  },
  {
   "cell_type": "code",
   "execution_count": 25,
   "metadata": {},
   "outputs": [
    {
     "name": "stdout",
     "output_type": "stream",
     "text": [
      "Assuming no difference between the affects of smoking on having a stroke the p_value is 0.0304. This p_value is low enoguh to reject the null\n",
      "Additionally the 95% confidence interval is between 0.791865116028 and 1.22294698434\n"
     ]
    }
   ],
   "source": [
    "#Find p-value and 95% CI and print\n",
    "p=((smoker_ratio_perm_reps>smo_obsv_rat).sum())/float(len(smoker_ratio_perm_reps))\n",
    "ci =np.percentile(smoker_ratio_perm_reps,(2.5,97.5))\n",
    "print('Assuming no difference between the affects of smoking on having a stroke the p_value is {}. This p_value is low enoguh to reject the null').format(p)\n",
    "print('Additionally the 95% confidence interval is between {} and {}').format(ci[0], ci[1])"
   ]
  },
  {
   "cell_type": "code",
   "execution_count": 26,
   "metadata": {
    "scrolled": true
   },
   "outputs": [
    {
     "data": {
      "text/plain": [
       "<matplotlib.lines.Line2D at 0x1a1b905dd0>"
      ]
     },
     "execution_count": 26,
     "metadata": {},
     "output_type": "execute_result"
    },
    {
     "data": {
      "image/png": "[encoded data removed]",
      "text/plain": [
       "<Figure size 432x288 with 1 Axes>"
      ]
     },
     "metadata": {
      "needs_background": "light"
     },
     "output_type": "display_data"
    }
   ],
   "source": [
    "#create histogram\n",
    "plt.hist(smoker_mean_perm_reps, bins= 12)\n",
    "plt.ylabel('Count')\n",
    "plt.xlabel('Smoker Mean Diff')\n",
    "plt.title('Mean Diff Permutation sample with Observed Mean')\n",
    "#show where observed mean diff falls in the distribution\n",
    "plt.axvline(smo_obsv_diff, color='k', linestyle='dashed', linewidth=2)"
   ]
  },
  {
   "cell_type": "code",
   "execution_count": 27,
   "metadata": {},
   "outputs": [
    {
     "name": "stdout",
     "output_type": "stream",
     "text": [
      "Assuming no difference between the affects of smoking on having a stroke the p_value is 0.0332.\n",
      "Additionally the 95% confidence interval is between -0.00329290461033 and 0.00349736356786\n"
     ]
    }
   ],
   "source": [
    "#Find p-value and 95% CI and print\n",
    "p=((smoker_mean_perm_reps>smo_obsv_diff).sum())/float(len(smoker_mean_perm_reps))\n",
    "ci =np.percentile(smoker_mean_perm_reps,(2.5,97.5))\n",
    "print('Assuming no difference between the affects of smoking on having a stroke the p_value is {}.').format(p)\n",
    "print('Additionally the 95% confidence interval is between {} and {}').format(ci[0], ci[1])"
   ]
  },
  {
   "cell_type": "markdown",
   "metadata": {},
   "source": [
    "Interestingly and contradicting our other dataset, it appears smoking has a significant affect on this dataset which includes patients under age 20."
   ]
  },
  {
   "cell_type": "code",
   "execution_count": 28,
   "metadata": {},
   "outputs": [],
   "source": [
    "#h0 will be that urban vs rural residence has no affect on stroke\n",
    "\n",
    "#seperate into smokers and non-smokers\n",
    "urban_str=np.array(df.stroke[df.urban_resident==1])\n",
    "rural_str=np.array(df.stroke[df.urban_resident==0])\n",
    "#get observed quantities\n",
    "urb_obsv_rat=mean_ratio(urban_str, rural_str)\n",
    "urb_obsv_diff= urban_str.mean()-rural_str.mean()"
   ]
  },
  {
   "cell_type": "code",
   "execution_count": 29,
   "metadata": {},
   "outputs": [],
   "source": [
    "#create permuted samples\n",
    "urb_mean_perm_reps=permutation_replicate(urban_str, rural_str, mean_diff, size= 10000)\n",
    "urb_ratio_perm_reps=permutation_replicate(urban_str, rural_str, mean_ratio, size= 10000)"
   ]
  },
  {
   "cell_type": "code",
   "execution_count": 30,
   "metadata": {},
   "outputs": [
    {
     "data": {
      "text/plain": [
       "<matplotlib.lines.Line2D at 0x107fd8fd0>"
      ]
     },
     "execution_count": 30,
     "metadata": {},
     "output_type": "execute_result"
    },
    {
     "data": {
      "image/png": "[encoded data removed]",
      "text/plain": [
       "<Figure size 432x288 with 1 Axes>"
      ]
     },
     "metadata": {
      "needs_background": "light"
     },
     "output_type": "display_data"
    }
   ],
   "source": [
    "#create histogram\n",
    "plt.hist(urb_ratio_perm_reps, bins= 12)\n",
    "plt.ylabel('Count')\n",
    "plt.xlabel('Smoker Ratio')\n",
    "plt.title('Mean Ratio Permutation sample with Observed Ratio')\n",
    "#show where observed ratio falls in the distribution\n",
    "plt.axvline(urb_obsv_rat, color='k', linestyle='dashed', linewidth=2)"
   ]
  },
  {
   "cell_type": "code",
   "execution_count": 31,
   "metadata": {},
   "outputs": [
    {
     "name": "stdout",
     "output_type": "stream",
     "text": [
      "Assuming no difference between the affects of smoking on having a stroke the p_value is 0.3029.\n",
      "Additionally the 95% confidence interval is between 0.855520776114 and 1.16839038381\n"
     ]
    }
   ],
   "source": [
    "#Find p-value and 95% CI and print\n",
    "p=((urb_ratio_perm_reps>urb_obsv_rat).sum())/float(len(urb_ratio_perm_reps))\n",
    "ci =np.percentile(urb_ratio_perm_reps,(2.5,97.5))\n",
    "print('Assuming no difference between the affects of smoking on having a stroke the p_value is {}.').format(p)\n",
    "print('Additionally the 95% confidence interval is between {} and {}').format(ci[0], ci[1])"
   ]
  },
  {
   "cell_type": "code",
   "execution_count": 32,
   "metadata": {},
   "outputs": [
    {
     "data": {
      "text/plain": [
       "<matplotlib.lines.Line2D at 0x1a1b638a90>"
      ]
     },
     "execution_count": 32,
     "metadata": {},
     "output_type": "execute_result"
    },
    {
     "data": {
      "image/png": "[encoded data removed]",
      "text/plain": [
       "<Figure size 432x288 with 1 Axes>"
      ]
     },
     "metadata": {
      "needs_background": "light"
     },
     "output_type": "display_data"
    }
   ],
   "source": [
    "#create histogram\n",
    "plt.hist(urb_mean_perm_reps, bins= 12)\n",
    "plt.ylabel('Count')\n",
    "plt.xlabel('Smoker Ratio')\n",
    "plt.title('Mean Ratio Permutation sample with Observed Ratio')\n",
    "#show where observed ratio falls in the distribution\n",
    "plt.axvline(urb_obsv_diff, color='k', linestyle='dashed', linewidth=2)"
   ]
  },
  {
   "cell_type": "code",
   "execution_count": 33,
   "metadata": {
    "scrolled": true
   },
   "outputs": [
    {
     "name": "stdout",
     "output_type": "stream",
     "text": [
      "Assuming no difference between the affects of smoking on having a stroke the p_value is 0.3074.\n",
      "Additionally the 95% confidence interval is between -0.00238797226829 and 0.00238098565056\n"
     ]
    }
   ],
   "source": [
    "#Find p-value and 95% CI and print\n",
    "p=((urb_mean_perm_reps>urb_obsv_diff).sum())/float(len(urb_mean_perm_reps))\n",
    "ci =np.percentile(urb_mean_perm_reps,(2.5,97.5))\n",
    "print('Assuming no difference between the affects of smoking on having a stroke the p_value is {}.').format(p)\n",
    "print('Additionally the 95% confidence interval is between {} and {}').format(ci[0], ci[1])"
   ]
  },
  {
   "cell_type": "markdown",
   "metadata": {},
   "source": [
    "Here both p values show we should accept the null. Urban vs rural residency does not affect ones likelihood of stroke."
   ]
  },
  {
   "cell_type": "code",
   "execution_count": 34,
   "metadata": {},
   "outputs": [],
   "source": [
    "#h0 will be that marriage has no affect on stroke\n",
    "#seperate those who do and do not have heart disease \n",
    "married_str=np.array(df.stroke[df.ever_married==1])\n",
    "single_str=np.array(df.stroke[df.ever_married==0])\n",
    "mar_obsv_rat=mean_ratio(married_str, single_str)\n",
    "mar_obsv_diff= married_str.mean()-single_str.mean()\n"
   ]
  },
  {
   "cell_type": "code",
   "execution_count": 35,
   "metadata": {},
   "outputs": [],
   "source": [
    "#create permuted samples\n",
    "mar_mean_perm_reps=permutation_replicate(married_str, single_str, mean_diff, size= 10000)\n",
    "mar_ratio_perm_reps=permutation_replicate(married_str, single_str, mean_ratio, size= 10000)"
   ]
  },
  {
   "cell_type": "code",
   "execution_count": 36,
   "metadata": {},
   "outputs": [
    {
     "data": {
      "text/plain": [
       "<matplotlib.lines.Line2D at 0x1a1b63b510>"
      ]
     },
     "execution_count": 36,
     "metadata": {},
     "output_type": "execute_result"
    },
    {
     "data": {
      "image/png": "[encoded data removed]",
      "text/plain": [
       "<Figure size 432x288 with 1 Axes>"
      ]
     },
     "metadata": {
      "needs_background": "light"
     },
     "output_type": "display_data"
    }
   ],
   "source": [
    "#create histogram\n",
    "plt.hist(mar_mean_perm_reps, bins= 12)\n",
    "plt.ylabel('Count')\n",
    "plt.xlabel('Marriage Mean Diff')\n",
    "plt.title('Mean Diff Permutation sample with Observed Mean')\n",
    "#show where observed mean diff falls in the distribution\n",
    "plt.axvline(mar_obsv_diff, color='k', linestyle='dashed', linewidth=2)"
   ]
  },
  {
   "cell_type": "code",
   "execution_count": 37,
   "metadata": {},
   "outputs": [
    {
     "name": "stdout",
     "output_type": "stream",
     "text": [
      "Assuming no difference between the affects of gender on having a stroke the p_value is 0.0. This p value means we should reject the null\n",
      "Additionally the 95% confidence interval is between -0.00244430477918 and 0.00241196554876\n"
     ]
    }
   ],
   "source": [
    "#Find p-value and 95% CI and print\n",
    "p=((mar_mean_perm_reps>mar_obsv_diff).sum())/float(len(mar_mean_perm_reps))\n",
    "ci =np.percentile(mar_mean_perm_reps,(2.5,97.5))\n",
    "print('Assuming no difference between the affects of gender on having a stroke the p_value is {}. This p value means we should reject the null').format(p)\n",
    "print('Additionally the 95% confidence interval is between {} and {}').format(ci[0], ci[1])"
   ]
  },
  {
   "cell_type": "code",
   "execution_count": 38,
   "metadata": {},
   "outputs": [
    {
     "data": {
      "text/plain": [
       "<matplotlib.lines.Line2D at 0x1a1cc5fed0>"
      ]
     },
     "execution_count": 38,
     "metadata": {},
     "output_type": "execute_result"
    },
    {
     "data": {
      "image/png": "[encoded data removed]",
      "text/plain": [
       "<Figure size 432x288 with 1 Axes>"
      ]
     },
     "metadata": {
      "needs_background": "light"
     },
     "output_type": "display_data"
    }
   ],
   "source": [
    "#create histogram\n",
    "plt.hist(mar_ratio_perm_reps, bins= 12)\n",
    "plt.ylabel('Count')\n",
    "plt.xlabel('Marriage Ratio')\n",
    "plt.title('Mean Ratio Permutation sample with Observed Ratio')\n",
    "#show where observed ratio falls in the distribution\n",
    "plt.axvline(mar_obsv_rat, color='k', linestyle='dashed', linewidth=2)"
   ]
  },
  {
   "cell_type": "code",
   "execution_count": 39,
   "metadata": {},
   "outputs": [
    {
     "name": "stdout",
     "output_type": "stream",
     "text": [
      "Assuming no difference between the affects of gender on having a stroke the p_value is 0.0. This p value means we should reject the null\n",
      "Additionally the 95% confidence interval is between 0.855308614751 and 1.18325342053\n"
     ]
    }
   ],
   "source": [
    "#Find p-value and 95% CI and print\n",
    "p=((mar_ratio_perm_reps>mar_obsv_rat).sum())/float(len(mar_ratio_perm_reps))\n",
    "ci =np.percentile(mar_ratio_perm_reps,(2.5,97.5))\n",
    "print('Assuming no difference between the affects of gender on having a stroke the p_value is {}. This p value means we should reject the null').format(p)\n",
    "print('Additionally the 95% confidence interval is between {} and {}').format(ci[0], ci[1])"
   ]
  },
  {
   "cell_type": "code",
   "execution_count": 40,
   "metadata": {},
   "outputs": [
    {
     "data": {
      "text/html": [
       "<div>\n",
       "<style scoped>\n",
       "    .dataframe tbody tr th:only-of-type {\n",
       "        vertical-align: middle;\n",
       "    }\n",
       "\n",
       "    .dataframe tbody tr th {\n",
       "        vertical-align: top;\n",
       "    }\n",
       "\n",
       "    .dataframe thead th {\n",
       "        text-align: right;\n",
       "    }\n",
       "</style>\n",
       "<table border=\"1\" class=\"dataframe\">\n",
       "  <thead>\n",
       "    <tr style=\"text-align: right;\">\n",
       "      <th></th>\n",
       "      <th>male</th>\n",
       "      <th>age</th>\n",
       "      <th>hypertension</th>\n",
       "      <th>heart_disease</th>\n",
       "      <th>urban_resident</th>\n",
       "      <th>avg_glucose_level</th>\n",
       "      <th>bmi</th>\n",
       "      <th>has_smoked</th>\n",
       "      <th>stroke</th>\n",
       "    </tr>\n",
       "    <tr>\n",
       "      <th>ever_married</th>\n",
       "      <th></th>\n",
       "      <th></th>\n",
       "      <th></th>\n",
       "      <th></th>\n",
       "      <th></th>\n",
       "      <th></th>\n",
       "      <th></th>\n",
       "      <th></th>\n",
       "      <th></th>\n",
       "    </tr>\n",
       "  </thead>\n",
       "  <tbody>\n",
       "    <tr>\n",
       "      <th>0</th>\n",
       "      <td>0.427544</td>\n",
       "      <td>21.091538</td>\n",
       "      <td>0.022502</td>\n",
       "      <td>0.009766</td>\n",
       "      <td>0.497624</td>\n",
       "      <td>95.277785</td>\n",
       "      <td>25.069348</td>\n",
       "      <td>0.098984</td>\n",
       "      <td>0.004421</td>\n",
       "    </tr>\n",
       "    <tr>\n",
       "      <th>1</th>\n",
       "      <td>0.392286</td>\n",
       "      <td>53.578069</td>\n",
       "      <td>0.124291</td>\n",
       "      <td>0.061977</td>\n",
       "      <td>0.502651</td>\n",
       "      <td>108.359704</td>\n",
       "      <td>30.605481</td>\n",
       "      <td>0.176449</td>\n",
       "      <td>0.021505</td>\n",
       "    </tr>\n",
       "  </tbody>\n",
       "</table>\n",
       "</div>"
      ],
      "text/plain": [
       "                  male        age  hypertension  heart_disease  \\\n",
       "ever_married                                                     \n",
       "0             0.427544  21.091538      0.022502       0.009766   \n",
       "1             0.392286  53.578069      0.124291       0.061977   \n",
       "\n",
       "              urban_resident  avg_glucose_level        bmi  has_smoked  \\\n",
       "ever_married                                                             \n",
       "0                   0.497624          95.277785  25.069348    0.098984   \n",
       "1                   0.502651         108.359704  30.605481    0.176449   \n",
       "\n",
       "                stroke  \n",
       "ever_married            \n",
       "0             0.004421  \n",
       "1             0.021505  "
      ]
     },
     "execution_count": 40,
     "metadata": {},
     "output_type": "execute_result"
    }
   ],
   "source": [
    "df.groupby('ever_married').mean()"
   ]
  },
  {
   "cell_type": "markdown",
   "metadata": {},
   "source": [
    "This result very much surprised me. We did not even examine marriage in our EDA because I assumed it would not have a great affect on ones likelihood to have a stroke. As we can see thoug in the table above the maim reason marriage appears to increase your risk of stroke is that married people tend to be older"
   ]
  },
  {
   "cell_type": "code",
   "execution_count": 41,
   "metadata": {},
   "outputs": [],
   "source": [
    "#h0 will be that gender has no affect on stroke\n",
    "#seperate those who do and do not have heart disease \n",
    "male_str=np.array(df.stroke[df.male==1])\n",
    "female_str=np.array(df.stroke[df.male==0])\n",
    "gen_obsv_rat=mean_ratio(male_str, female_str)\n",
    "gen_obsv_diff= male_str.mean()-female_str.mean()\n"
   ]
  },
  {
   "cell_type": "code",
   "execution_count": 42,
   "metadata": {},
   "outputs": [],
   "source": [
    "#create permuted samples\n",
    "gender_mean_perm_reps=permutation_replicate(male_str, female_str, mean_diff, size= 10000)\n",
    "gender_ratio_perm_reps=permutation_replicate(male_str, female_str, mean_ratio, size= 10000)"
   ]
  },
  {
   "cell_type": "code",
   "execution_count": 43,
   "metadata": {},
   "outputs": [
    {
     "data": {
      "text/plain": [
       "<matplotlib.lines.Line2D at 0x1a1d016e50>"
      ]
     },
     "execution_count": 43,
     "metadata": {},
     "output_type": "execute_result"
    },
    {
     "data": {
      "image/png": "[encoded data removed]",
      "text/plain": [
       "<Figure size 432x288 with 1 Axes>"
      ]
     },
     "metadata": {
      "needs_background": "light"
     },
     "output_type": "display_data"
    }
   ],
   "source": [
    "#create histogram\n",
    "plt.hist(gender_mean_perm_reps, bins= 12)\n",
    "plt.ylabel('Count')\n",
    "plt.xlabel('Gender Mean Diff')\n",
    "plt.title('Mean Diff Permutation sample with Observed Mean')\n",
    "#show where observed mean diff falls in the distribution\n",
    "plt.axvline(gen_obsv_diff, color='k', linestyle='dashed', linewidth=2)"
   ]
  },
  {
   "cell_type": "code",
   "execution_count": 44,
   "metadata": {},
   "outputs": [
    {
     "name": "stdout",
     "output_type": "stream",
     "text": [
      "Assuming no difference between the affects of gender on having a stroke the p_value is 0.0163. This p value means we should reject the null\n",
      "Additionally the 95% confidence interval is between -0.00241752284013 and 0.00243097619913\n"
     ]
    }
   ],
   "source": [
    "#Find p-value and 95% CI and print\n",
    "p=((gender_mean_perm_reps>gen_obsv_diff).sum())/float(len(gender_mean_perm_reps))\n",
    "ci =np.percentile(gender_mean_perm_reps,(2.5,97.5))\n",
    "print('Assuming no difference between the affects of gender on having a stroke the p_value is {}. This p value means we should reject the null').format(p)\n",
    "print('Additionally the 95% confidence interval is between {} and {}').format(ci[0], ci[1])"
   ]
  },
  {
   "cell_type": "code",
   "execution_count": 45,
   "metadata": {},
   "outputs": [
    {
     "data": {
      "text/plain": [
       "<matplotlib.lines.Line2D at 0x1a1d03c390>"
      ]
     },
     "execution_count": 45,
     "metadata": {},
     "output_type": "execute_result"
    },
    {
     "data": {
      "image/png": "[encoded data removed]",
      "text/plain": [
       "<Figure size 432x288 with 1 Axes>"
      ]
     },
     "metadata": {
      "needs_background": "light"
     },
     "output_type": "display_data"
    }
   ],
   "source": [
    "#create histogram\n",
    "plt.hist(gender_ratio_perm_reps, bins= 12)\n",
    "plt.ylabel('Count')\n",
    "plt.xlabel('Gender Ratio')\n",
    "plt.title('Mean Ratio Permutation sample with Observed Ratio')\n",
    "#show where observed ratio falls in the distribution\n",
    "plt.axvline(gen_obsv_rat, color='k', linestyle='dashed', linewidth=2)"
   ]
  },
  {
   "cell_type": "code",
   "execution_count": 46,
   "metadata": {},
   "outputs": [
    {
     "name": "stdout",
     "output_type": "stream",
     "text": [
      "Assuming no difference between the affects of gender on having a stroke the p_value is 0.0196. This p value means we should reject the null\n",
      "Additionally the 95% confidence interval is between 0.851788624307 and 1.16943496682\n"
     ]
    }
   ],
   "source": [
    "#Find p-value and 95% CI and print\n",
    "p=((gender_ratio_perm_reps>gen_obsv_rat).sum())/float(len(gender_ratio_perm_reps))\n",
    "ci =np.percentile(gender_ratio_perm_reps,(2.5,97.5))\n",
    "print('Assuming no difference between the affects of gender on having a stroke the p_value is {}. This p value means we should reject the null').format(p)\n",
    "print('Additionally the 95% confidence interval is between {} and {}').format(ci[0], ci[1])"
   ]
  },
  {
   "cell_type": "markdown",
   "metadata": {},
   "source": [
    "Both graphs show we should reject the null that gender has no affect on risk of stroke. It is clear that males are at a higher risk of stroke"
   ]
  },
  {
   "cell_type": "code",
   "execution_count": 47,
   "metadata": {},
   "outputs": [],
   "source": [
    "#h0 will be that heart disease has no affect on stroke\n",
    "#seperate those who do and do not have heart disease \n",
    "hd_str=np.array(df.stroke[df.heart_disease==1])\n",
    "nohd_str=np.array(df.stroke[df.heart_disease==0])\n",
    "hd_obsv_rat=mean_ratio(hd_str, nohd_str)\n",
    "hd_obsv_diff= hd_str.mean()-nohd_str.mean()\n"
   ]
  },
  {
   "cell_type": "code",
   "execution_count": 48,
   "metadata": {},
   "outputs": [],
   "source": [
    "#get permuted samples of each\n",
    "hd_mean_perm_reps=permutation_replicate(hd_str, nohd_str, mean_diff, size= 10000)\n",
    "hd_ratio_perm_reps=permutation_replicate(hd_str, nohd_str, mean_ratio, size= 10000)"
   ]
  },
  {
   "cell_type": "code",
   "execution_count": 49,
   "metadata": {},
   "outputs": [
    {
     "data": {
      "text/plain": [
       "<matplotlib.lines.Line2D at 0x1a1c4e3990>"
      ]
     },
     "execution_count": 49,
     "metadata": {},
     "output_type": "execute_result"
    },
    {
     "data": {
      "image/png": "[encoded data removed]",
      "text/plain": [
       "<Figure size 432x288 with 1 Axes>"
      ]
     },
     "metadata": {
      "needs_background": "light"
     },
     "output_type": "display_data"
    }
   ],
   "source": [
    "#create histogram\n",
    "plt.hist(hd_ratio_perm_reps, bins= 12)\n",
    "plt.ylabel('Count')\n",
    "plt.xlabel('Heart Disease Ratio')\n",
    "plt.title('Permutation sample with Observed Ratio')\n",
    "#show observed mean ratio\n",
    "plt.axvline(hd_obsv_rat, color='k', linestyle='dashed', linewidth=2)"
   ]
  },
  {
   "cell_type": "code",
   "execution_count": 50,
   "metadata": {},
   "outputs": [
    {
     "name": "stdout",
     "output_type": "stream",
     "text": [
      "Assuming heart disease has no effect on the likelihood of stroke the p value is 0.0. This low value shows we must reject the null.\n"
     ]
    }
   ],
   "source": [
    "#display p-value\n",
    "p=((hd_ratio_perm_reps>hd_obsv_rat).sum())/float(len(smoker_ratio_perm_reps))\n",
    "print('Assuming heart disease has no effect on the likelihood of stroke the p value is {}. This low value shows we must reject the null.').format(p)"
   ]
  },
  {
   "cell_type": "code",
   "execution_count": 51,
   "metadata": {},
   "outputs": [
    {
     "data": {
      "text/plain": [
       "<matplotlib.lines.Line2D at 0x1a1af9d850>"
      ]
     },
     "execution_count": 51,
     "metadata": {},
     "output_type": "execute_result"
    },
    {
     "data": {
      "image/png": "[encoded data removed]",
      "text/plain": [
       "<Figure size 432x288 with 1 Axes>"
      ]
     },
     "metadata": {
      "needs_background": "light"
     },
     "output_type": "display_data"
    }
   ],
   "source": [
    "#create histogram\n",
    "plt.hist(hd_mean_perm_reps, bins= 12)\n",
    "plt.ylabel('Count')\n",
    "plt.xlabel('Heart Disease Mean Diff')\n",
    "plt.title('Mean Diff Permutation sample with Observed Mean diff')\n",
    "#show observed mean difference\n",
    "plt.axvline(hd_obsv_diff, color='k', linestyle='dashed', linewidth=2)"
   ]
  },
  {
   "cell_type": "code",
   "execution_count": 52,
   "metadata": {},
   "outputs": [
    {
     "name": "stdout",
     "output_type": "stream",
     "text": [
      "Assuming heart disease has no effect on the likelihood of stroke the p value is 0.0.\n"
     ]
    }
   ],
   "source": [
    "#display p\n",
    "p=((hd_mean_perm_reps>hd_obsv_rat).sum())/float(len(hd_mean_perm_reps))\n",
    "print('Assuming heart disease has no effect on the likelihood of stroke the p value is {}.').format(p)"
   ]
  },
  {
   "cell_type": "code",
   "execution_count": 53,
   "metadata": {},
   "outputs": [],
   "source": [
    "#h0 will be that hypertension has no affect on stroke\n",
    "#seperate those who have hypertension from those who don't\n",
    "hype_str=np.array(df.stroke[df.hypertension==1])\n",
    "nohype_str=np.array(df.stroke[df.hypertension==0])\n",
    "\n",
    "hyp_obsv_rat=mean_ratio(hype_str, nohype_str)\n",
    "hyp_obsv_diff= hype_str.mean()-nohype_str.mean()\n"
   ]
  },
  {
   "cell_type": "code",
   "execution_count": 54,
   "metadata": {},
   "outputs": [],
   "source": [
    "#create permutation samples\n",
    "hype_mean_perm_reps=permutation_replicate(hype_str, nohype_str, mean_diff, size= 10000)\n",
    "hype_ratio_perm_reps=permutation_replicate(hype_str, nohype_str, mean_ratio, size= 10000)"
   ]
  },
  {
   "cell_type": "code",
   "execution_count": 55,
   "metadata": {
    "scrolled": true
   },
   "outputs": [
    {
     "data": {
      "text/plain": [
       "<matplotlib.lines.Line2D at 0x1a1aed9f50>"
      ]
     },
     "execution_count": 55,
     "metadata": {},
     "output_type": "execute_result"
    },
    {
     "data": {
      "image/png": "[encoded data removed]",
      "text/plain": [
       "<Figure size 432x288 with 1 Axes>"
      ]
     },
     "metadata": {
      "needs_background": "light"
     },
     "output_type": "display_data"
    }
   ],
   "source": [
    "#create histogram\n",
    "plt.hist(hype_ratio_perm_reps, bins= 12)\n",
    "plt.ylabel('Count')\n",
    "plt.xlabel('Hypertension Ration')\n",
    "plt.title('Ratio Permutation sample with Observed Ratio')\n",
    "#plot observed ratio\n",
    "plt.axvline(hyp_obsv_rat, color='k', linestyle='dashed', linewidth=2)"
   ]
  },
  {
   "cell_type": "code",
   "execution_count": 56,
   "metadata": {},
   "outputs": [
    {
     "name": "stdout",
     "output_type": "stream",
     "text": [
      "Assuming hypertension has no effect on the likelihood of stroke the p value is 0.0.\n"
     ]
    }
   ],
   "source": [
    "#display p-value\n",
    "p=((hype_ratio_perm_reps>hyp_obsv_rat).sum())/float(len(hype_ratio_perm_reps))\n",
    "print('Assuming hypertension has no effect on the likelihood of stroke the p value is {}.').format(p)"
   ]
  },
  {
   "cell_type": "code",
   "execution_count": 57,
   "metadata": {},
   "outputs": [
    {
     "data": {
      "text/plain": [
       "<matplotlib.lines.Line2D at 0x1a1d03c450>"
      ]
     },
     "execution_count": 57,
     "metadata": {},
     "output_type": "execute_result"
    },
    {
     "data": {
      "image/png": "[encoded data removed]",
      "text/plain": [
       "<Figure size 432x288 with 1 Axes>"
      ]
     },
     "metadata": {
      "needs_background": "light"
     },
     "output_type": "display_data"
    }
   ],
   "source": [
    "#plot histogram\n",
    "plt.hist(hype_mean_perm_reps, bins= 12)\n",
    "plt.ylabel('Count')\n",
    "plt.xlabel('Hypertension Ration')\n",
    "plt.title('Permutation sample with Observed')\n",
    "#plot observed mean diff\n",
    "plt.axvline(hyp_obsv_diff, color='k', linestyle='dashed', linewidth=2)"
   ]
  },
  {
   "cell_type": "code",
   "execution_count": 58,
   "metadata": {},
   "outputs": [
    {
     "name": "stdout",
     "output_type": "stream",
     "text": [
      "Assuming hypertension has no effect on the likelihood of stroke the p value is 0.0.\n"
     ]
    }
   ],
   "source": [
    "#display p value\n",
    "p=((hype_ratio_perm_reps>hyp_obsv_rat).sum())/float(len(hype_ratio_perm_reps))\n",
    "print('Assuming hypertension has no effect on the likelihood of stroke the p value is {}.').format(p)"
   ]
  },
  {
   "cell_type": "markdown",
   "metadata": {},
   "source": [
    "The permutation sampling shows that the major affects that hypertension and heart disease had on the rate of stroke are clearly beyond random chance. This means that heart disease and hypertension will be very important factors for our predictive model."
   ]
  },
  {
   "cell_type": "code",
   "execution_count": null,
   "metadata": {},
   "outputs": [],
   "source": []
  },
  {
   "cell_type": "code",
   "execution_count": null,
   "metadata": {},
   "outputs": [],
   "source": []
  },
  {
   "cell_type": "code",
   "execution_count": null,
   "metadata": {},
   "outputs": [],
   "source": []
  }
 ],
 "metadata": {
  "kernelspec": {
   "display_name": "Python 2",
   "language": "python",
   "name": "python2"
  },
  "language_info": {
   "codemirror_mode": {
    "name": "ipython",
    "version": 2
   },
   "file_extension": ".py",
   "mimetype": "text/x-python",
   "name": "python",
   "nbconvert_exporter": "python",
   "pygments_lexer": "ipython2",
   "version": "2.7.15"
  }
 },
 "nbformat": 4,
 "nbformat_minor": 2
}
